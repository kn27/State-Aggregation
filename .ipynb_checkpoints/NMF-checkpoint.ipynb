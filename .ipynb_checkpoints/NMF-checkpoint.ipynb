{
 "cells": [
  {
   "cell_type": "code",
   "execution_count": 1,
   "metadata": {
    "ExecuteTime": {
     "end_time": "2019-05-03T02:38:06.107821Z",
     "start_time": "2019-05-03T02:38:05.867816Z"
    }
   },
   "outputs": [],
   "source": [
    "%load_ext autoreload\n",
    "%autoreload 2"
   ]
  },
  {
   "cell_type": "code",
   "execution_count": 70,
   "metadata": {
    "ExecuteTime": {
     "end_time": "2019-05-03T02:38:38.040239Z",
     "start_time": "2019-05-03T02:38:06.196812Z"
    }
   },
   "outputs": [],
   "source": [
    "import numpy as np\n",
    "from sklearn.decomposition import nmf\n",
    "from sklearn.preprocessing import normalize\n",
    "from numpy import linalg\n",
    "from util import *\n",
    "import NMF\n",
    "from NMF import projection"
   ]
  },
  {
   "cell_type": "code",
   "execution_count": 68,
   "metadata": {
    "ExecuteTime": {
     "end_time": "2019-04-30T07:13:31.943278Z",
     "start_time": "2019-04-30T07:13:14.946818Z"
    },
    "scrolled": true
   },
   "outputs": [],
   "source": [
    "U0,V0 = NMF.init(1000,5)\n",
    "P = U0 @ V0.T\n",
    "U1, V1 = NMF.init(1000,300)\n",
    "#U,V = NMF.subroutine(P,U1,V1) "
   ]
  },
  {
   "cell_type": "code",
   "execution_count": 102,
   "metadata": {},
   "outputs": [],
   "source": [
    "X = np.array([[1,2,3],[2,3,4],[4,5,1], [5,6,7]])"
   ]
  },
  {
   "cell_type": "code",
   "execution_count": 103,
   "metadata": {},
   "outputs": [],
   "source": [
    "X = normalize(X, axis = 1, norm = 'l1')"
   ]
  },
  {
   "cell_type": "code",
   "execution_count": 104,
   "metadata": {},
   "outputs": [
    {
     "data": {
      "text/plain": [
       "array([[0.16666667, 0.33333333, 0.5       ],\n",
       "       [0.22222222, 0.33333333, 0.44444444],\n",
       "       [0.4       , 0.5       , 0.1       ],\n",
       "       [0.27777778, 0.33333333, 0.38888889]])"
      ]
     },
     "execution_count": 104,
     "metadata": {},
     "output_type": "execute_result"
    }
   ],
   "source": [
    "X"
   ]
  },
  {
   "cell_type": "code",
   "execution_count": 108,
   "metadata": {},
   "outputs": [
    {
     "name": "stdout",
     "output_type": "stream",
     "text": [
      "[0.5, 0.3333333333333333, 0.16666666666666666]\n",
      "2\n",
      "[0.4444444444444444, 0.3333333333333333, 0.2222222222222222]\n",
      "2\n",
      "[0.5, 0.4, 0.1]\n",
      "2\n",
      "[0.3888888888888889, 0.3333333333333333, 0.2777777777777778]\n",
      "2\n"
     ]
    }
   ],
   "source": [
    "d,s = X.shape\n",
    "proj = np.zeros([d,s])\n",
    "for i in range(d):\n",
    "    temp = sorted(X[i,:], reverse = True)\n",
    "    print(temp)\n",
    "    print(np.argmax([sum([temp[k] - temp[j] for k in range(j-1)]) for j in range(s)]))\n",
    "    l = np.argmax([sum([temp[k] - temp[j] for k in range(j-1)]) for j in range(s)])\n",
    "    print(l)\n",
    "    eta = 1/l * (1 - sum(temp[:l]))\n",
    "    proj[i,:] = X[i,:] + eta * np.ones(s)\n",
    "    proj[i,:] = proj[i,:] * (proj[i,:]>0)"
   ]
  },
  {
   "cell_type": "code",
   "execution_count": 106,
   "metadata": {},
   "outputs": [
    {
     "data": {
      "text/plain": [
       "array([[0.25      , 0.41666667, 0.58333333],\n",
       "       [0.33333333, 0.44444444, 0.55555556],\n",
       "       [0.45      , 0.55      , 0.15      ],\n",
       "       [0.41666667, 0.47222222, 0.52777778]])"
      ]
     },
     "execution_count": 106,
     "metadata": {},
     "output_type": "execute_result"
    }
   ],
   "source": [
    "proj"
   ]
  },
  {
   "cell_type": "code",
   "execution_count": 41,
   "metadata": {},
   "outputs": [
    {
     "data": {
      "text/plain": [
       "array([0.53241936, 0.51516142, 0.56591678, 0.5478737 , 0.55202242,\n",
       "       0.5797277 , 0.54487367, 0.52409502, 0.56313834, 0.54604022,\n",
       "       0.56455982, 0.57231401, 0.52451728, 0.52685388, 0.53150765,\n",
       "       0.52273208, 0.52782032, 0.57164826, 0.52930216, 0.52793249,\n",
       "       0.55057925, 0.54528688, 0.54109525, 0.53872655, 0.53722027,\n",
       "       0.52558322, 0.56996626, 0.57547276, 0.54899152, 0.54479003])"
      ]
     },
     "execution_count": 41,
     "metadata": {},
     "output_type": "execute_result"
    }
   ],
   "source": [
    "linalg.norm(U1, axis = 0)"
   ]
  },
  {
   "cell_type": "code",
   "execution_count": 34,
   "metadata": {},
   "outputs": [
    {
     "data": {
      "text/plain": [
       "1"
      ]
     },
     "execution_count": 34,
     "metadata": {},
     "output_type": "execute_result"
    }
   ],
   "source": [
    "len(np.array([1,2,3]).shape)"
   ]
  },
  {
   "cell_type": "code",
   "execution_count": null,
   "metadata": {
    "ExecuteTime": {
     "end_time": "2019-04-30T07:05:46.192646Z",
     "start_time": "2019-04-30T07:05:45.709645Z"
    }
   },
   "outputs": [],
   "source": [
    "V[41]"
   ]
  },
  {
   "cell_type": "code",
   "execution_count": null,
   "metadata": {
    "ExecuteTime": {
     "end_time": "2019-04-28T19:47:43.865701Z",
     "start_time": "2019-04-28T19:47:38.123855Z"
    }
   },
   "outputs": [],
   "source": [
    "A = pd.read_csv(r'100_matrix_2.csv').values"
   ]
  },
  {
   "cell_type": "code",
   "execution_count": null,
   "metadata": {
    "ExecuteTime": {
     "end_time": "2019-04-30T05:58:58.008012Z",
     "start_time": "2019-04-30T05:58:57.646010Z"
    }
   },
   "outputs": [],
   "source": [
    "1e-6"
   ]
  },
  {
   "cell_type": "code",
   "execution_count": null,
   "metadata": {
    "ExecuteTime": {
     "end_time": "2019-04-30T05:36:20.694650Z",
     "start_time": "2019-04-30T05:36:20.281648Z"
    }
   },
   "outputs": [],
   "source": [
    "U,V=init(2000,5)"
   ]
  },
  {
   "cell_type": "code",
   "execution_count": null,
   "metadata": {
    "ExecuteTime": {
     "end_time": "2019-04-30T05:31:23.172967Z",
     "start_time": "2019-04-30T05:31:21.795583Z"
    }
   },
   "outputs": [],
   "source": [
    "def non_negative_factorization(X, s0, tol=1e-4, max_iter=200):\n",
    "    d = X.shape[0]\n",
    "    U,V = init(d,s0)\n",
    "    iter_ = 0\n",
    "    F = np.zer\n",
    "    while True:\n",
    "        while (iter_>30 or (F[-31:-2].mean()-F[-1])/F[-1]> 0.001) and iter_<max_iter:\n",
    "            iter_ += 1\n",
    "    return W,H,n_iter\n",
    "\n",
    "def subroutine(X,U,V,s, tol):\n",
    "    iter_ = 0\n",
    "    while (iter_>30 or (F[-31:-2].mean()-F[-1])/F[-1]> 0.001) and iter_<max_iter:\n",
    "        iter_ += 1\n",
    "        U,V,s = reduce(U,V)\n",
    "        U,V = palm(X,U,V, lambda_ = ,eps = )\n",
    "    return U,V\n",
    "        \n",
    "def reduce(U,V, drop_threshold = 0.001):\n",
    "    norm = linalg.norm(U, ord = 2, axis = 0)\n",
    "    drop = np.where(norm<drop_threshold)\n",
    "    U = np.delete(U, drop, axis = 1)\n",
    "    V = np.delete(V, drop, axis = 1)\n",
    "    return U,V,U.shape[1] - len(drop)\n",
    "\n",
    "def compress1(U, V):\n",
    "    import sympy\n",
    "    d,s = U.shape\n",
    "    combination = [[U[j,i] * V[k,i] for i in range(s)] for j in range(d) for k in range(d)]\n",
    "    _, columns = sympy.Matrix(t).rref(combination)\n",
    "    U = normalize(U[:,columns], axis = 1, norm = 'l1')\n",
    "    V = V[:,columns]\n",
    "    return U,V\n",
    "    \n",
    "def compress2(U, V, ind_threshold):\n",
    "    pass\n",
    "      \n",
    "def expand(U,V,u,v):\n",
    "    U = np.diag(np.ones(U.shape[0]) - kappa * u)@U\n",
    "    U = np.concatenate((U, kappa * u), axis = 1)\n",
    "    V = np.concatenate((V, 1/(v.T@np.ones(V.shape[0]))@v), axis = 1)\n",
    "    return U,V\n",
    "\n",
    "def positive_normalize(x):\n",
    "    x = x * (x>0)\n",
    "    return normalize(x)\n",
    "    \n",
    "def check_global_optimality(P,X,mu, threshold, iter_, lr,extra_eps, lambda_):\n",
    "    t = mu@np.ones(X.shape[0]) - 2(X - P)\n",
    "    u,v = init(X.shape[0],1)\n",
    "    change = 1\n",
    "    iter_ = 0\n",
    "    new_sigma = u.T@t@v\n",
    "    while change>threshold and iter_<100:\n",
    "        old_sigma = new_sigma\n",
    "        u = positive_normalize(u + lr * t@v)\n",
    "        v = positive_normalize(v + lr * t.T@u)\n",
    "        new_sigma = u.T@t@v\n",
    "        change = new_sigma / old_sigma - 1\n",
    "    return new_sigma < (1+extra_eps) * lambda_, u, v\n",
    "\n",
    "def norm(X):\n",
    "    return linalg.norm(X, ord = 2, axis = 0)\n",
    "\n",
    "def palm(X, U, V, lambda_, eps,):\n",
    "    c = 1/(gamma1 * (linalg.norm(V.T@V)+ lambda_/eps))\n",
    "    d = 1/(gamma2 * (linalg.norm(U.T@U) + lambda_ * np.sqrt(d) * linalg.norm(U)))\n",
    "    F_U = -(X - U@V.T)@V + lambda_ * U * np.diag([linalg.norm(V[:,j])/linalg.norm(U[:,j]) for j in range(U.shape[1])])\n",
    "    U = projection(U - c * F_U)\n",
    "    F_V = -(X - U@V.T)@U + lambda_ * V * np.diag([linalg.norm(U[:,j])/linalg.norm(V[:,j]) for j in range(U.shape[1])])\n",
    "    V = projection(V - d * F_V)\n",
    "    return U,V\n",
    "\n",
    "def projection(X):\n",
    "    d,s = X.shape\n",
    "    proj = np.zeros(d,s)\n",
    "    for i in range(d):\n",
    "        l = np.argmax([sum([X[i,k] - X[i,j] for k in range(j)]) for j in range(s)])\n",
    "        eta = 1/l * (1 - sum(X[i,:l]))\n",
    "        proj[i,:] = X + eta * np.ones(s)\n",
    "        proj[i,:] = proj[i,:] * (proj[i,:]>0)\n",
    "    return proj\n",
    "\n",
    "def init(d, s0):\n",
    "    U = normalize(np.random.rand(d,s0), axis = 1, norm = 'l1')\n",
    "    V = normalize(np.random.rand(d,s0), axis = 0, norm = 'l1')\n",
    "    return U,V"
   ]
  },
  {
   "cell_type": "code",
   "execution_count": null,
   "metadata": {
    "ExecuteTime": {
     "end_time": "2019-04-29T06:32:40.673747Z",
     "start_time": "2019-04-29T06:32:39.830577Z"
    }
   },
   "outputs": [],
   "source": [
    "t.shape"
   ]
  },
  {
   "cell_type": "code",
   "execution_count": null,
   "metadata": {
    "ExecuteTime": {
     "end_time": "2019-04-29T06:33:08.647463Z",
     "start_time": "2019-04-29T06:33:07.864414Z"
    }
   },
   "outputs": [],
   "source": [
    "np.array([1,2,3]).T.shape"
   ]
  },
  {
   "cell_type": "code",
   "execution_count": null,
   "metadata": {
    "ExecuteTime": {
     "end_time": "2019-04-29T06:33:50.403982Z",
     "start_time": "2019-04-29T06:33:49.673976Z"
    }
   },
   "outputs": [],
   "source": [
    "np.concatenate((t, np.array([[1,2,3]]).T), axis = 1)"
   ]
  },
  {
   "cell_type": "code",
   "execution_count": null,
   "metadata": {
    "ExecuteTime": {
     "end_time": "2019-04-29T00:04:48.741822Z",
     "start_time": "2019-04-29T00:04:47.963599Z"
    }
   },
   "outputs": [],
   "source": [
    "t = np.array([[1,1,2],[3,3,1], [4,4,3]])\n",
    "u,v,d = np.linalg.svd(t)"
   ]
  },
  {
   "cell_type": "code",
   "execution_count": null,
   "metadata": {
    "ExecuteTime": {
     "end_time": "2019-04-28T23:58:35.614151Z",
     "start_time": "2019-04-28T23:58:34.836546Z"
    }
   },
   "outputs": [],
   "source": [
    "u,v,d "
   ]
  },
  {
   "cell_type": "code",
   "execution_count": null,
   "metadata": {
    "ExecuteTime": {
     "end_time": "2019-04-29T00:00:38.157596Z",
     "start_time": "2019-04-29T00:00:37.345933Z"
    }
   },
   "outputs": [],
   "source": [
    "u[:,:2] @ np.diag(v[:2]) @ d[:2,:3]"
   ]
  },
  {
   "cell_type": "code",
   "execution_count": null,
   "metadata": {
    "ExecuteTime": {
     "end_time": "2019-04-29T00:12:50.391525Z",
     "start_time": "2019-04-29T00:12:49.743520Z"
    }
   },
   "outputs": [],
   "source": [
    "t = np.array([[1,1,3,5,6],[3,3,3,5,6], [4,4,3,5,6]])"
   ]
  },
  {
   "cell_type": "code",
   "execution_count": null,
   "metadata": {
    "ExecuteTime": {
     "end_time": "2019-04-29T00:07:19.517391Z",
     "start_time": "2019-04-29T00:07:18.734795Z"
    }
   },
   "outputs": [],
   "source": [
    "lambdas, V =  np.linalg.eig(t.T)\n",
    "t[lambdas == 0,:]"
   ]
  },
  {
   "cell_type": "code",
   "execution_count": null,
   "metadata": {
    "ExecuteTime": {
     "end_time": "2019-04-29T00:12:52.629601Z",
     "start_time": "2019-04-29T00:12:51.968067Z"
    }
   },
   "outputs": [],
   "source": [
    "import sympy"
   ]
  },
  {
   "cell_type": "code",
   "execution_count": null,
   "metadata": {
    "ExecuteTime": {
     "end_time": "2019-04-29T00:12:53.802592Z",
     "start_time": "2019-04-29T00:12:53.234589Z"
    }
   },
   "outputs": [],
   "source": [
    "sympy.Matrix(t).rref()"
   ]
  },
  {
   "cell_type": "code",
   "execution_count": null,
   "metadata": {
    "ExecuteTime": {
     "end_time": "2019-04-29T00:07:26.565051Z",
     "start_time": "2019-04-29T00:07:25.848401Z"
    }
   },
   "outputs": [],
   "source": [
    "lambdas"
   ]
  },
  {
   "cell_type": "code",
   "execution_count": null,
   "metadata": {},
   "outputs": [],
   "source": [
    "scipy.linalg.lstsq()"
   ]
  },
  {
   "cell_type": "code",
   "execution_count": null,
   "metadata": {
    "ExecuteTime": {
     "end_time": "2019-04-28T23:08:25.783325Z",
     "start_time": "2019-04-28T23:08:25.033604Z"
    }
   },
   "outputs": [],
   "source": [
    "np.linalg.lstsq(np.array([[1,2],[2,4],[3,6]]), np.zeros(3))"
   ]
  },
  {
   "cell_type": "code",
   "execution_count": null,
   "metadata": {
    "ExecuteTime": {
     "end_time": "2019-04-28T22:36:35.319660Z",
     "start_time": "2019-04-28T22:36:34.808662Z"
    }
   },
   "outputs": [],
   "source": [
    "[[U[j,i] * V[k,i] for i in range(3)] for j in range(4) for k in range(4)]"
   ]
  },
  {
   "cell_type": "code",
   "execution_count": null,
   "metadata": {
    "ExecuteTime": {
     "end_time": "2019-04-28T22:43:10.363347Z",
     "start_time": "2019-04-28T22:43:09.846346Z"
    },
    "scrolled": true
   },
   "outputs": [],
   "source": [
    "X,res,rank,s = np.linalg.lstsq([[U[j,i] * V[k,i] for i in range(3)] for j in range(4) for k in range(4)],np.zeros(16)) "
   ]
  },
  {
   "cell_type": "code",
   "execution_count": null,
   "metadata": {
    "ExecuteTime": {
     "end_time": "2019-04-28T22:42:55.397909Z",
     "start_time": "2019-04-28T22:42:54.953909Z"
    }
   },
   "outputs": [],
   "source": [
    "X"
   ]
  },
  {
   "cell_type": "code",
   "execution_count": null,
   "metadata": {
    "ExecuteTime": {
     "end_time": "2019-04-28T19:59:39.428344Z",
     "start_time": "2019-04-28T19:59:38.561825Z"
    }
   },
   "outputs": [],
   "source": [
    "U, V = init(3,3)"
   ]
  },
  {
   "cell_type": "code",
   "execution_count": null,
   "metadata": {
    "ExecuteTime": {
     "end_time": "2019-04-28T20:05:27.007598Z",
     "start_time": "2019-04-28T20:05:26.501344Z"
    }
   },
   "outputs": [],
   "source": [
    "U.shape[1]"
   ]
  },
  {
   "cell_type": "code",
   "execution_count": null,
   "metadata": {
    "ExecuteTime": {
     "end_time": "2019-04-28T19:59:08.899102Z",
     "start_time": "2019-04-28T19:59:08.331254Z"
    }
   },
   "outputs": [],
   "source": [
    "reduce(U,V, 0.5)"
   ]
  },
  {
   "cell_type": "code",
   "execution_count": null,
   "metadata": {
    "ExecuteTime": {
     "end_time": "2019-04-28T19:30:12.921975Z",
     "start_time": "2019-04-28T19:30:12.387275Z"
    }
   },
   "outputs": [],
   "source": [
    "t = np.random.rand(3,3)"
   ]
  },
  {
   "cell_type": "code",
   "execution_count": null,
   "metadata": {
    "ExecuteTime": {
     "end_time": "2019-04-28T19:32:45.210220Z",
     "start_time": "2019-04-28T19:32:44.628104Z"
    }
   },
   "outputs": [],
   "source": [
    "normalize(t, axis = 1, norm = 'l1')"
   ]
  },
  {
   "cell_type": "code",
   "execution_count": null,
   "metadata": {
    "ExecuteTime": {
     "end_time": "2019-04-28T19:29:42.638410Z",
     "start_time": "2019-04-28T19:29:42.067116Z"
    }
   },
   "outputs": [],
   "source": [
    "t.sum(axis = 1).reshape(1,3)"
   ]
  },
  {
   "cell_type": "code",
   "execution_count": null,
   "metadata": {
    "ExecuteTime": {
     "end_time": "2019-04-28T19:28:06.646476Z",
     "start_time": "2019-04-28T19:28:05.780244Z"
    }
   },
   "outputs": [],
   "source": [
    "t.sum(axis = 1)"
   ]
  },
  {
   "cell_type": "code",
   "execution_count": null,
   "metadata": {
    "ExecuteTime": {
     "end_time": "2019-04-28T19:26:04.172454Z",
     "start_time": "2019-04-28T19:26:03.482189Z"
    }
   },
   "outputs": [],
   "source": [
    "0.07150122 / 1.94110118"
   ]
  },
  {
   "cell_type": "code",
   "execution_count": null,
   "metadata": {
    "ExecuteTime": {
     "end_time": "2019-04-28T19:30:20.490546Z",
     "start_time": "2019-04-28T19:30:19.945509Z"
    }
   },
   "outputs": [],
   "source": [
    "(t/t.sum(axis = 1).reshape(3,1)).sum(axis = 1)"
   ]
  },
  {
   "cell_type": "code",
   "execution_count": null,
   "metadata": {
    "ExecuteTime": {
     "end_time": "2019-04-28T19:23:30.858029Z",
     "start_time": "2019-04-28T19:23:30.179604Z"
    }
   },
   "outputs": [],
   "source": [
    "t.sum(axis = 1)"
   ]
  },
  {
   "cell_type": "code",
   "execution_count": null,
   "metadata": {
    "ExecuteTime": {
     "end_time": "2019-04-28T19:20:45.037525Z",
     "start_time": "2019-04-28T19:20:44.500911Z"
    }
   },
   "outputs": [],
   "source": [
    "t/t.sum(axis = 1)"
   ]
  },
  {
   "cell_type": "markdown",
   "metadata": {},
   "source": [
    "### Classic NMF"
   ]
  },
  {
   "cell_type": "code",
   "execution_count": null,
   "metadata": {
    "ExecuteTime": {
     "end_time": "2019-04-17T04:58:21.227876Z",
     "start_time": "2019-04-17T04:56:16.900287Z"
    },
    "scrolled": true
   },
   "outputs": [],
   "source": [
    "W,H,niter = nmf.non_negative_factorization(A, n_components = 50, verbose = True,)"
   ]
  },
  {
   "cell_type": "code",
   "execution_count": null,
   "metadata": {
    "ExecuteTime": {
     "end_time": "2019-04-17T05:11:57.592734Z",
     "start_time": "2019-04-17T05:11:54.316211Z"
    },
    "scrolled": true
   },
   "outputs": [],
   "source": [
    "W,H,niter = nmf.non_negative_factorization(A, n_components = 1, verbose = True,)"
   ]
  },
  {
   "cell_type": "code",
   "execution_count": null,
   "metadata": {
    "ExecuteTime": {
     "end_time": "2019-04-17T04:05:01.976481Z",
     "start_time": "2019-04-17T04:05:01.694480Z"
    }
   },
   "outputs": [],
   "source": [
    "def inspect(A):\n",
    "    plt.hist(A.sum(axis = 0), bins = 15,range = (0,15))\n",
    "    plt.show()\n",
    "    plt.hist(A.sum(axis = 1), bins = 15,range = (0,15))\n",
    "    plt.show()"
   ]
  },
  {
   "cell_type": "code",
   "execution_count": null,
   "metadata": {
    "ExecuteTime": {
     "start_time": "2019-04-17T04:07:38.427Z"
    }
   },
   "outputs": [],
   "source": [
    "A, count = get_matrix('100.csv')"
   ]
  },
  {
   "cell_type": "code",
   "execution_count": null,
   "metadata": {
    "ExecuteTime": {
     "end_time": "2019-04-17T04:05:10.223481Z",
     "start_time": "2019-04-17T04:05:02.567481Z"
    }
   },
   "outputs": [],
   "source": [
    "man = get_zones()\n",
    "joint = get_joint_grid(man, 100, 0)"
   ]
  },
  {
   "cell_type": "code",
   "execution_count": null,
   "metadata": {
    "ExecuteTime": {
     "end_time": "2019-04-17T03:51:28.868281Z",
     "start_time": "2019-04-17T03:51:28.356297Z"
    },
    "scrolled": true
   },
   "outputs": [],
   "source": [
    "sorted_count = pd.DataFrame(count).sort_values('count',ascending = False)"
   ]
  },
  {
   "cell_type": "code",
   "execution_count": null,
   "metadata": {
    "ExecuteTime": {
     "end_time": "2019-04-17T03:51:35.350286Z",
     "start_time": "2019-04-17T03:51:35.013764Z"
    }
   },
   "outputs": [],
   "source": [
    "sorted_count.head()"
   ]
  },
  {
   "cell_type": "code",
   "execution_count": null,
   "metadata": {
    "ExecuteTime": {
     "end_time": "2019-04-17T04:00:21.693679Z",
     "start_time": "2019-04-17T04:00:21.389681Z"
    }
   },
   "outputs": [],
   "source": [
    "[index[0] for index in sorted_count.index[:5]]"
   ]
  },
  {
   "cell_type": "code",
   "execution_count": null,
   "metadata": {
    "ExecuteTime": {
     "end_time": "2019-04-17T04:04:20.119987Z",
     "start_time": "2019-04-17T04:04:19.736985Z"
    }
   },
   "outputs": [],
   "source": [
    "plot2(joint.loc[[index[0] for index in sorted_count.index[:5]],:])"
   ]
  },
  {
   "cell_type": "code",
   "execution_count": null,
   "metadata": {
    "ExecuteTime": {
     "end_time": "2019-04-17T03:56:18.241485Z",
     "start_time": "2019-04-17T03:56:17.800483Z"
    }
   },
   "outputs": [],
   "source": [
    "joint[joint.index[0]]"
   ]
  },
  {
   "cell_type": "code",
   "execution_count": null,
   "metadata": {
    "ExecuteTime": {
     "end_time": "2019-04-17T03:44:16.340069Z",
     "start_time": "2019-04-17T03:44:14.572068Z"
    }
   },
   "outputs": [],
   "source": [
    "fig, ax = plt.subplots(figsize = (15,15))\n",
    "man.plot(ax = ax, color = 'green')\n",
    "joint.plot(**{'edgecolor': 'red'}, ax = ax)"
   ]
  },
  {
   "cell_type": "code",
   "execution_count": null,
   "metadata": {
    "ExecuteTime": {
     "end_time": "2019-04-17T03:30:04.782901Z",
     "start_time": "2019-04-17T03:30:03.615377Z"
    }
   },
   "outputs": [],
   "source": [
    "A = get_matrix('100.csv')\n",
    "inspect(A)"
   ]
  },
  {
   "cell_type": "code",
   "execution_count": null,
   "metadata": {
    "ExecuteTime": {
     "end_time": "2019-04-17T03:25:19.680022Z",
     "start_time": "2019-04-17T03:25:19.110022Z"
    }
   },
   "outputs": [],
   "source": [
    "fig, ax = plt.subplots(figsize = (10,5))\n",
    "#ax.hist(A.sum(axis = 0), bins = 15,range = (0,15))\n",
    "ax.hist(A.sum(axis = 1), bins = 15,range = (0,15))"
   ]
  },
  {
   "cell_type": "code",
   "execution_count": null,
   "metadata": {
    "ExecuteTime": {
     "end_time": "2019-04-17T03:16:57.676069Z",
     "start_time": "2019-04-17T03:16:57.291069Z"
    }
   },
   "outputs": [],
   "source": [
    "count[(832.0, 978.0)]"
   ]
  },
  {
   "cell_type": "code",
   "execution_count": null,
   "metadata": {
    "ExecuteTime": {
     "end_time": "2019-04-17T03:10:02.438724Z",
     "start_time": "2019-04-17T03:10:01.884723Z"
    }
   },
   "outputs": [],
   "source": [
    "t.do.max()"
   ]
  },
  {
   "cell_type": "code",
   "execution_count": null,
   "metadata": {
    "ExecuteTime": {
     "end_time": "2019-04-17T03:07:53.583278Z",
     "start_time": "2019-04-17T03:07:53.129281Z"
    }
   },
   "outputs": [],
   "source": [
    "count.pu.max()"
   ]
  },
  {
   "cell_type": "code",
   "execution_count": null,
   "metadata": {
    "ExecuteTime": {
     "end_time": "2019-04-17T02:56:02.478438Z",
     "start_time": "2019-04-17T02:55:43.879984Z"
    }
   },
   "outputs": [],
   "source": [
    "tax = pd.read_csv(r'yellow_tripdata_2016-01.csv',\n",
    "                    usecols=['dropoff_longitude', 'dropoff_latitude', 'pickup_longitude', 'pickup_latitude'],\n",
    "                    chunksize = 10000, dtype =np.float32, nrows = 30000)\n",
    "trips = get_trips(tax.get_chunk())\n",
    "man = get_zones()\n",
    "joint = get_joint_grid(man, 100, 0)"
   ]
  }
 ],
 "metadata": {
  "kernelspec": {
   "display_name": "Python 3",
   "language": "python",
   "name": "python3"
  },
  "language_info": {
   "codemirror_mode": {
    "name": "ipython",
    "version": 3
   },
   "file_extension": ".py",
   "mimetype": "text/x-python",
   "name": "python",
   "nbconvert_exporter": "python",
   "pygments_lexer": "ipython3",
   "version": "3.6.5"
  }
 },
 "nbformat": 4,
 "nbformat_minor": 2
}
