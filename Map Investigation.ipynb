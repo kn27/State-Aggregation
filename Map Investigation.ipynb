{
 "cells": [
  {
   "cell_type": "code",
   "execution_count": 1,
   "metadata": {
    "ExecuteTime": {
     "end_time": "2019-05-09T02:11:28.725068Z",
     "start_time": "2019-05-09T02:11:28.572061Z"
    }
   },
   "outputs": [],
   "source": [
    "%load_ext autoreload\n",
    "%autoreload 2"
   ]
  },
  {
   "cell_type": "code",
   "execution_count": 2,
   "metadata": {
    "ExecuteTime": {
     "end_time": "2019-05-09T02:11:30.231059Z",
     "start_time": "2019-05-09T02:11:28.780069Z"
    }
   },
   "outputs": [],
   "source": [
    "from matplotlib import pyplot as plt\n",
    "%matplotlib inline\n",
    "import pandas as pd\n",
    "import geopandas as gpd\n",
    "import os\n",
    "import shapely\n",
    "from shapely.geometry import LineString, Point\n",
    "from shapely.ops import cascaded_union\n",
    "import numpy as np\n",
    "import time\n",
    "\n",
    "from util import *"
   ]
  },
  {
   "cell_type": "code",
   "execution_count": 3,
   "metadata": {
    "ExecuteTime": {
     "end_time": "2019-05-09T02:11:31.445055Z",
     "start_time": "2019-05-09T02:11:30.235045Z"
    }
   },
   "outputs": [],
   "source": [
    "tax = pd.read_csv(r'yellow_tripdata_2016-01.csv',\n",
    "                    usecols=['dropoff_longitude', 'dropoff_latitude', 'pickup_longitude', 'pickup_latitude'],\n",
    "                    chunksize = 10000, dtype =np.float32, nrows = 30000)\n",
    "trips = get_trips(tax.get_chunk())"
   ]
  },
  {
   "cell_type": "code",
   "execution_count": 16,
   "metadata": {
    "ExecuteTime": {
     "end_time": "2019-05-09T02:13:14.602821Z",
     "start_time": "2019-05-09T02:12:49.568652Z"
    },
    "scrolled": true
   },
   "outputs": [
    {
     "data": {
      "image/png": "[encoded data removed]",
      "text/plain": [
       "<Figure size 720x720 with 1 Axes>"
      ]
     },
     "metadata": {},
     "output_type": "display_data"
    }
   ],
   "source": [
    "man = get_zones()\n",
    "joint = get_joint_grid(man, 125, True)\n",
    "c = aggregate_by_zone(trips, joint)"
   ]
  },
  {
   "cell_type": "code",
   "execution_count": 18,
   "metadata": {},
   "outputs": [
    {
     "data": {
      "text/html": [
       "<div>\n",
       "<style scoped>\n",
       "    .dataframe tbody tr th:only-of-type {\n",
       "        vertical-align: middle;\n",
       "    }\n",
       "\n",
       "    .dataframe tbody tr th {\n",
       "        vertical-align: top;\n",
       "    }\n",
       "\n",
       "    .dataframe thead th {\n",
       "        text-align: right;\n",
       "    }\n",
       "</style>\n",
       "<table border=\"1\" class=\"dataframe\">\n",
       "  <thead>\n",
       "    <tr style=\"text-align: right;\">\n",
       "      <th></th>\n",
       "      <th>geometry</th>\n",
       "    </tr>\n",
       "  </thead>\n",
       "  <tbody>\n",
       "    <tr>\n",
       "      <th>0</th>\n",
       "      <td>POLYGON ((-74.04772962698515 40.68919282069494...</td>\n",
       "    </tr>\n",
       "    <tr>\n",
       "      <th>1</th>\n",
       "      <td>POLYGON ((-74.04772962698515 40.69076178950738...</td>\n",
       "    </tr>\n",
       "    <tr>\n",
       "      <th>2</th>\n",
       "      <td>POLYGON ((-74.04660111244927 40.68762385188251...</td>\n",
       "    </tr>\n",
       "    <tr>\n",
       "      <th>3</th>\n",
       "      <td>POLYGON ((-74.04660111244927 40.68919282069494...</td>\n",
       "    </tr>\n",
       "    <tr>\n",
       "      <th>4</th>\n",
       "      <td>POLYGON ((-74.04660111244927 40.69076178950738...</td>\n",
       "    </tr>\n",
       "    <tr>\n",
       "      <th>5</th>\n",
       "      <td>POLYGON ((-74.04547259791339 40.68762385188251...</td>\n",
       "    </tr>\n",
       "    <tr>\n",
       "      <th>6</th>\n",
       "      <td>POLYGON ((-74.04547259791339 40.68919282069494...</td>\n",
       "    </tr>\n",
       "    <tr>\n",
       "      <th>7</th>\n",
       "      <td>POLYGON ((-74.04547259791339 40.69076178950738...</td>\n",
       "    </tr>\n",
       "    <tr>\n",
       "      <th>8</th>\n",
       "      <td>POLYGON ((-74.04434408337751 40.68762385188251...</td>\n",
       "    </tr>\n",
       "    <tr>\n",
       "      <th>9</th>\n",
       "      <td>POLYGON ((-74.04434408337751 40.68919282069494...</td>\n",
       "    </tr>\n",
       "    <tr>\n",
       "      <th>10</th>\n",
       "      <td>POLYGON ((-74.04434408337751 40.69703766475712...</td>\n",
       "    </tr>\n",
       "    <tr>\n",
       "      <th>11</th>\n",
       "      <td>POLYGON ((-74.04321556884163 40.68919282069494...</td>\n",
       "    </tr>\n",
       "    <tr>\n",
       "      <th>12</th>\n",
       "      <td>POLYGON ((-74.04321556884163 40.69546869594468...</td>\n",
       "    </tr>\n",
       "    <tr>\n",
       "      <th>13</th>\n",
       "      <td>POLYGON ((-74.04321556884163 40.69703766475712...</td>\n",
       "    </tr>\n",
       "    <tr>\n",
       "      <th>14</th>\n",
       "      <td>POLYGON ((-74.04321556884163 40.69860663356955...</td>\n",
       "    </tr>\n",
       "    <tr>\n",
       "      <th>15</th>\n",
       "      <td>POLYGON ((-74.04208705430575 40.69546869594468...</td>\n",
       "    </tr>\n",
       "    <tr>\n",
       "      <th>16</th>\n",
       "      <td>POLYGON ((-74.04208705430575 40.69703766475712...</td>\n",
       "    </tr>\n",
       "    <tr>\n",
       "      <th>17</th>\n",
       "      <td>POLYGON ((-74.04208705430575 40.69860663356955...</td>\n",
       "    </tr>\n",
       "    <tr>\n",
       "      <th>18</th>\n",
       "      <td>POLYGON ((-74.04208705430575 40.70017560238199...</td>\n",
       "    </tr>\n",
       "    <tr>\n",
       "      <th>19</th>\n",
       "      <td>POLYGON ((-74.04095853976987 40.69546869594468...</td>\n",
       "    </tr>\n",
       "    <tr>\n",
       "      <th>20</th>\n",
       "      <td>POLYGON ((-74.04095853976987 40.69703766475712...</td>\n",
       "    </tr>\n",
       "    <tr>\n",
       "      <th>21</th>\n",
       "      <td>POLYGON ((-74.04095853976987 40.69860663356955...</td>\n",
       "    </tr>\n",
       "    <tr>\n",
       "      <th>22</th>\n",
       "      <td>POLYGON ((-74.04095853976987 40.70017560238199...</td>\n",
       "    </tr>\n",
       "    <tr>\n",
       "      <th>23</th>\n",
       "      <td>POLYGON ((-74.039830025234 40.69703766475712, ...</td>\n",
       "    </tr>\n",
       "    <tr>\n",
       "      <th>24</th>\n",
       "      <td>POLYGON ((-74.039830025234 40.69860663356955, ...</td>\n",
       "    </tr>\n",
       "    <tr>\n",
       "      <th>25</th>\n",
       "      <td>POLYGON ((-74.039830025234 40.70017560238199, ...</td>\n",
       "    </tr>\n",
       "    <tr>\n",
       "      <th>26</th>\n",
       "      <td>POLYGON ((-74.03870151069812 40.69703766475712...</td>\n",
       "    </tr>\n",
       "    <tr>\n",
       "      <th>27</th>\n",
       "      <td>POLYGON ((-74.03870151069812 40.69860663356955...</td>\n",
       "    </tr>\n",
       "    <tr>\n",
       "      <th>28</th>\n",
       "      <td>POLYGON ((-74.02741636533933 40.68448591425764...</td>\n",
       "    </tr>\n",
       "    <tr>\n",
       "      <th>29</th>\n",
       "      <td>POLYGON ((-74.02741636533933 40.68605488307007...</td>\n",
       "    </tr>\n",
       "    <tr>\n",
       "      <th>...</th>\n",
       "      <td>...</td>\n",
       "    </tr>\n",
       "    <tr>\n",
       "      <th>3932</th>\n",
       "      <td>POLYGON ((-73.91343639721562 40.87119320293745...</td>\n",
       "    </tr>\n",
       "    <tr>\n",
       "      <th>3933</th>\n",
       "      <td>POLYGON ((-73.91343639721562 40.87276217174988...</td>\n",
       "    </tr>\n",
       "    <tr>\n",
       "      <th>3934</th>\n",
       "      <td>POLYGON ((-73.91343639721562 40.87433114056232...</td>\n",
       "    </tr>\n",
       "    <tr>\n",
       "      <th>3935</th>\n",
       "      <td>POLYGON ((-73.91343639721562 40.87590010937475...</td>\n",
       "    </tr>\n",
       "    <tr>\n",
       "      <th>3936</th>\n",
       "      <td>POLYGON ((-73.91343639721562 40.87746907818719...</td>\n",
       "    </tr>\n",
       "    <tr>\n",
       "      <th>3937</th>\n",
       "      <td>POLYGON ((-73.91230788267974 40.86648629650014...</td>\n",
       "    </tr>\n",
       "    <tr>\n",
       "      <th>3938</th>\n",
       "      <td>POLYGON ((-73.91230788267974 40.86805526531258...</td>\n",
       "    </tr>\n",
       "    <tr>\n",
       "      <th>3939</th>\n",
       "      <td>POLYGON ((-73.91230788267974 40.86962423412501...</td>\n",
       "    </tr>\n",
       "    <tr>\n",
       "      <th>3940</th>\n",
       "      <td>POLYGON ((-73.91230788267974 40.87119320293745...</td>\n",
       "    </tr>\n",
       "    <tr>\n",
       "      <th>3941</th>\n",
       "      <td>POLYGON ((-73.91230788267974 40.87276217174988...</td>\n",
       "    </tr>\n",
       "    <tr>\n",
       "      <th>3942</th>\n",
       "      <td>POLYGON ((-73.91230788267974 40.87433114056232...</td>\n",
       "    </tr>\n",
       "    <tr>\n",
       "      <th>3943</th>\n",
       "      <td>POLYGON ((-73.91230788267974 40.87590010937475...</td>\n",
       "    </tr>\n",
       "    <tr>\n",
       "      <th>3944</th>\n",
       "      <td>POLYGON ((-73.91230788267974 40.87746907818719...</td>\n",
       "    </tr>\n",
       "    <tr>\n",
       "      <th>3945</th>\n",
       "      <td>POLYGON ((-73.91117936814386 40.86805526531258...</td>\n",
       "    </tr>\n",
       "    <tr>\n",
       "      <th>3946</th>\n",
       "      <td>POLYGON ((-73.91117936814386 40.86962423412501...</td>\n",
       "    </tr>\n",
       "    <tr>\n",
       "      <th>3947</th>\n",
       "      <td>POLYGON ((-73.91117936814386 40.87119320293745...</td>\n",
       "    </tr>\n",
       "    <tr>\n",
       "      <th>3948</th>\n",
       "      <td>POLYGON ((-73.91117936814386 40.87276217174988...</td>\n",
       "    </tr>\n",
       "    <tr>\n",
       "      <th>3949</th>\n",
       "      <td>POLYGON ((-73.91117936814386 40.87433114056232...</td>\n",
       "    </tr>\n",
       "    <tr>\n",
       "      <th>3950</th>\n",
       "      <td>POLYGON ((-73.91117936814386 40.87590010937475...</td>\n",
       "    </tr>\n",
       "    <tr>\n",
       "      <th>3951</th>\n",
       "      <td>POLYGON ((-73.91117936814386 40.87746907818719...</td>\n",
       "    </tr>\n",
       "    <tr>\n",
       "      <th>3952</th>\n",
       "      <td>POLYGON ((-73.91005085360798 40.87119320293745...</td>\n",
       "    </tr>\n",
       "    <tr>\n",
       "      <th>3953</th>\n",
       "      <td>POLYGON ((-73.91005085360798 40.87276217174988...</td>\n",
       "    </tr>\n",
       "    <tr>\n",
       "      <th>3954</th>\n",
       "      <td>POLYGON ((-73.91005085360798 40.87433114056232...</td>\n",
       "    </tr>\n",
       "    <tr>\n",
       "      <th>3955</th>\n",
       "      <td>POLYGON ((-73.91005085360798 40.87590010937475...</td>\n",
       "    </tr>\n",
       "    <tr>\n",
       "      <th>3956</th>\n",
       "      <td>POLYGON ((-73.91005085360798 40.87746907818719...</td>\n",
       "    </tr>\n",
       "    <tr>\n",
       "      <th>3957</th>\n",
       "      <td>POLYGON ((-73.90892233907211 40.87119320293745...</td>\n",
       "    </tr>\n",
       "    <tr>\n",
       "      <th>3958</th>\n",
       "      <td>POLYGON ((-73.90892233907211 40.87276217174988...</td>\n",
       "    </tr>\n",
       "    <tr>\n",
       "      <th>3959</th>\n",
       "      <td>POLYGON ((-73.90892233907211 40.87433114056232...</td>\n",
       "    </tr>\n",
       "    <tr>\n",
       "      <th>3960</th>\n",
       "      <td>POLYGON ((-73.90892233907211 40.87590010937475...</td>\n",
       "    </tr>\n",
       "    <tr>\n",
       "      <th>3961</th>\n",
       "      <td>POLYGON ((-73.90892233907211 40.87746907818719...</td>\n",
       "    </tr>\n",
       "  </tbody>\n",
       "</table>\n",
       "<p>3962 rows × 1 columns</p>\n",
       "</div>"
      ],
      "text/plain": [
       "                                               geometry\n",
       "0     POLYGON ((-74.04772962698515 40.68919282069494...\n",
       "1     POLYGON ((-74.04772962698515 40.69076178950738...\n",
       "2     POLYGON ((-74.04660111244927 40.68762385188251...\n",
       "3     POLYGON ((-74.04660111244927 40.68919282069494...\n",
       "4     POLYGON ((-74.04660111244927 40.69076178950738...\n",
       "5     POLYGON ((-74.04547259791339 40.68762385188251...\n",
       "6     POLYGON ((-74.04547259791339 40.68919282069494...\n",
       "7     POLYGON ((-74.04547259791339 40.69076178950738...\n",
       "8     POLYGON ((-74.04434408337751 40.68762385188251...\n",
       "9     POLYGON ((-74.04434408337751 40.68919282069494...\n",
       "10    POLYGON ((-74.04434408337751 40.69703766475712...\n",
       "11    POLYGON ((-74.04321556884163 40.68919282069494...\n",
       "12    POLYGON ((-74.04321556884163 40.69546869594468...\n",
       "13    POLYGON ((-74.04321556884163 40.69703766475712...\n",
       "14    POLYGON ((-74.04321556884163 40.69860663356955...\n",
       "15    POLYGON ((-74.04208705430575 40.69546869594468...\n",
       "16    POLYGON ((-74.04208705430575 40.69703766475712...\n",
       "17    POLYGON ((-74.04208705430575 40.69860663356955...\n",
       "18    POLYGON ((-74.04208705430575 40.70017560238199...\n",
       "19    POLYGON ((-74.04095853976987 40.69546869594468...\n",
       "20    POLYGON ((-74.04095853976987 40.69703766475712...\n",
       "21    POLYGON ((-74.04095853976987 40.69860663356955...\n",
       "22    POLYGON ((-74.04095853976987 40.70017560238199...\n",
       "23    POLYGON ((-74.039830025234 40.69703766475712, ...\n",
       "24    POLYGON ((-74.039830025234 40.69860663356955, ...\n",
       "25    POLYGON ((-74.039830025234 40.70017560238199, ...\n",
       "26    POLYGON ((-74.03870151069812 40.69703766475712...\n",
       "27    POLYGON ((-74.03870151069812 40.69860663356955...\n",
       "28    POLYGON ((-74.02741636533933 40.68448591425764...\n",
       "29    POLYGON ((-74.02741636533933 40.68605488307007...\n",
       "...                                                 ...\n",
       "3932  POLYGON ((-73.91343639721562 40.87119320293745...\n",
       "3933  POLYGON ((-73.91343639721562 40.87276217174988...\n",
       "3934  POLYGON ((-73.91343639721562 40.87433114056232...\n",
       "3935  POLYGON ((-73.91343639721562 40.87590010937475...\n",
       "3936  POLYGON ((-73.91343639721562 40.87746907818719...\n",
       "3937  POLYGON ((-73.91230788267974 40.86648629650014...\n",
       "3938  POLYGON ((-73.91230788267974 40.86805526531258...\n",
       "3939  POLYGON ((-73.91230788267974 40.86962423412501...\n",
       "3940  POLYGON ((-73.91230788267974 40.87119320293745...\n",
       "3941  POLYGON ((-73.91230788267974 40.87276217174988...\n",
       "3942  POLYGON ((-73.91230788267974 40.87433114056232...\n",
       "3943  POLYGON ((-73.91230788267974 40.87590010937475...\n",
       "3944  POLYGON ((-73.91230788267974 40.87746907818719...\n",
       "3945  POLYGON ((-73.91117936814386 40.86805526531258...\n",
       "3946  POLYGON ((-73.91117936814386 40.86962423412501...\n",
       "3947  POLYGON ((-73.91117936814386 40.87119320293745...\n",
       "3948  POLYGON ((-73.91117936814386 40.87276217174988...\n",
       "3949  POLYGON ((-73.91117936814386 40.87433114056232...\n",
       "3950  POLYGON ((-73.91117936814386 40.87590010937475...\n",
       "3951  POLYGON ((-73.91117936814386 40.87746907818719...\n",
       "3952  POLYGON ((-73.91005085360798 40.87119320293745...\n",
       "3953  POLYGON ((-73.91005085360798 40.87276217174988...\n",
       "3954  POLYGON ((-73.91005085360798 40.87433114056232...\n",
       "3955  POLYGON ((-73.91005085360798 40.87590010937475...\n",
       "3956  POLYGON ((-73.91005085360798 40.87746907818719...\n",
       "3957  POLYGON ((-73.90892233907211 40.87119320293745...\n",
       "3958  POLYGON ((-73.90892233907211 40.87276217174988...\n",
       "3959  POLYGON ((-73.90892233907211 40.87433114056232...\n",
       "3960  POLYGON ((-73.90892233907211 40.87590010937475...\n",
       "3961  POLYGON ((-73.90892233907211 40.87746907818719...\n",
       "\n",
       "[3962 rows x 1 columns]"
      ]
     },
     "execution_count": 18,
     "metadata": {},
     "output_type": "execute_result"
    }
   ],
   "source": [
    "joint.to_csv()"
   ]
  },
  {
   "cell_type": "code",
   "execution_count": null,
   "metadata": {
    "ExecuteTime": {
     "end_time": "2019-04-17T00:07:42.742143Z",
     "start_time": "2019-04-17T00:07:42.734147Z"
    },
    "hide_input": true
   },
   "outputs": [],
   "source": [
    "# def clean_up(df):\n",
    "#     check1 = df.pu1.apply(lambda x: x>=-74.25495645300373 and x <=-73.70002020503291)\n",
    "#     check2 = df.pu2.apply(lambda x: x>= 40.49787800728232 and x <= 40.91510319260628)\n",
    "#     check3 = df.do1.apply(lambda x: x>=-74.25495645300373 and x <=-73.70002020503291)\n",
    "#     check4 = df.do2.apply(lambda x: x>= 40.49787800728232 and x <= 40.91510319260628)\n",
    "#     return check1 * check2 * check3 * check4\n",
    "\n",
    "# class Trip():\n",
    "#     def __init__(self, pu, do):\n",
    "#         self.pu = pu\n",
    "#         self.do = do\n",
    "\n",
    "# class Transform():\n",
    "#     def __init__(self):\n",
    "#         self.count = 0\n",
    "#     def __call__(self, x):\n",
    "#         self.count +=1\n",
    "#         return LineString([[x[0], x[1]], [x[2], x[3]]])\n",
    "\n",
    "# transform = Transform()\n",
    "\n",
    "\n",
    "\n",
    "# def find_zone(zones, point):\n",
    "#     for i,zone in enumerate(zones):\n",
    "#         if point.within(zone):\n",
    "#             return i \n",
    "#     return -1\n",
    "\n",
    "# def aggregate_by_zone(zones, trips):\n",
    "#     n = len(zones)\n",
    "#     outlier = []\n",
    "#     transition = np.zeros((n,n))\n",
    "#     for trip in trips:\n",
    "#         if len(trip.boundary)>1:\n",
    "#             pu_zone = find_zone(zones, trip.boundary[0])\n",
    "#             if pu_zone == -1:\n",
    "#                 outlier.append(trip)\n",
    "#             else:\n",
    "#                 do_zone = find_zone(zones, trip.boundary[1])\n",
    "#                 if do_zone == -1:\n",
    "#                     outlier.append(trip)\n",
    "#                 else:\n",
    "#                     transition[pu_zone, do_zone] += 1\n",
    "#         else:\n",
    "#             pass\n",
    "#             #print(f'Check trip {trip}')\n",
    "#     return transition, outlier\n"
   ]
  },
  {
   "cell_type": "code",
   "execution_count": null,
   "metadata": {
    "ExecuteTime": {
     "end_time": "2019-05-09T02:13:35.102110Z",
     "start_time": "2019-05-09T02:13:34.853109Z"
    }
   },
   "outputs": [],
   "source": [
    "def aggregate_by_zone2(zones, trips):\n",
    "    #have to join individually because cannot find a way to find a field to join using geodataframe\n",
    "    trips = trips[trips.geometry.apply(lambda x:len(x.boundary)>1)]\n",
    "    trips.reset_index(inplace = True, drop = True)\n",
    "    pu = gpd.GeoDataFrame(trips.geometry.apply(lambda x:x.boundary[0]))\n",
    "    do = gpd.GeoDataFrame(trips.geometry.apply(lambda x:x.boundary[1]))\n",
    "    pu_joined_zones = gpd.sjoin(zones,pu, how=\"right\", op='contains')\n",
    "    do_joined_zones = gpd.sjoin(zones,do, how=\"right\", op='contains')\n",
    "    agg = pd.concat([pu_joined_zones[['index_left']], do_joined_zones[['index_left']]],axis = 1, join = 'inner')\n",
    "    agg.columns = ['pu', 'do']\n",
    "    return agg,None\n",
    "    #return agg[(-pd.isna(agg.do) & -pd.isna(agg.pu))], trips.loc[list(set(trips.index) - set(agg.index))]\n",
    "\n",
    "def plot(zones, trips):\n",
    "    fig, ax = plt.subplots(figsize = (15,15))\n",
    "    zones.plot(ax=ax)\n",
    "    trips.plot(ax = ax, color = 'red')\n",
    "\n",
    "def get_zones():\n",
    "    zones = gpd.read_file(r'taxi_zones\\taxi_zones.shp')\n",
    "    zones = zones.to_crs(\"+proj=longlat +ellps=WGS84 +datum=WGS84 +no_defs\")\n",
    "    temp = zones[zones.borough == 'Manhattan'].reset_index(inplace = False, drop = True)\n",
    "    temp = gpd.GeoDataFrame(geometry = [cascaded_union(temp.geometry)])\n",
    "    return gpd.GeoDataFrame(geometry = temp.rotate(36).geometry)\n",
    "\n",
    "def get_joint_grid(zones, bins = 50, plot = False):\n",
    "    long_set = np.arange(min(b.bounds[0] for b in zones.geometry), max(b.bounds[2] for b in zones.geometry), step = (max(b.bounds[2] for b in zones.geometry) - min(b.bounds[0] for b in zones.geometry))/bins) \n",
    "    long_set = [(long_set[i], long_set[i+1]) for i in range(len(long_set)-1)]\n",
    "    lat_set =  np.arange(min(b.bounds[1] for b in zones.geometry), max(b.bounds[3] for b in zones.geometry), step = (max(b.bounds[3] for b in zones.geometry) - min(b.bounds[1] for b in zones.geometry))/bins) \n",
    "    lat_set = [(lat_set[i], lat_set[i+1]) for i in range(len(lat_set)-1)]\n",
    "    grid = gpd.GeoDataFrame(geometry = [cascaded_union([Point(long[0], lat[0]),Point(long[1], lat[0]),Point(long[0], lat[1]),Point(long[1], lat[1])]).envelope for long in long_set for lat in lat_set])\n",
    "    joint = gpd.sjoin(grid, zones, how = 'inner', op = 'intersects')\n",
    "    joint.reset_index(drop = True, inplace = True)\n",
    "    joint.drop(['index_right'],axis = 1, inplace =True)\n",
    "    if plot:\n",
    "        fig, ax = plt.subplots(figsize = (10,10)) \n",
    "        joint.plot(**{'edgecolor': 'red'}, ax = ax)\n",
    "    return joint"
   ]
  },
  {
   "cell_type": "code",
   "execution_count": null,
   "metadata": {
    "ExecuteTime": {
     "end_time": "2019-05-09T02:13:58.899813Z",
     "start_time": "2019-05-09T02:13:58.641814Z"
    }
   },
   "outputs": [],
   "source": [
    "tax = pd.read_csv(r'yellow_tripdata_2016-01.csv',usecols=['dropoff_longitude', 'dropoff_latitude', 'pickup_longitude', 'pickup_latitude'],chunksize = 50000, dtype =np.float32)"
   ]
  },
  {
   "cell_type": "code",
   "execution_count": null,
   "metadata": {
    "ExecuteTime": {
     "end_time": "2019-05-09T02:24:42.775936Z",
     "start_time": "2019-05-09T02:24:42.480938Z"
    },
    "scrolled": true
   },
   "outputs": [],
   "source": [
    "# transitions = []\n",
    "# outliers = []\n",
    "# i = 0\n",
    "# for tax_sample in tax:\n",
    "#     time0 = time.time()\n",
    "#     i += 1\n",
    "#     #tax_sample.columns = ['pu1' , 'pu2', 'do1', 'do2']\n",
    "#     trips = gpd.GeoDataFrame(geometry = tax_sample.apply(lambda x:LineString([[x[0], x[1]], [x[2], x[3]]]), axis = 1))\n",
    "#     #transition, outlier = aggregate_by_zone(list(man.geometry), list(trips.geometry))\n",
    "#     transition, outlier = aggregate_by_zone2(man, trips)\n",
    "#     transitions.append(transition)\n",
    "#     #outliers.extend(outlier)\n",
    "#     print(f'{i}:{time.time()-time0}')\n",
    "#     #if i == 1:\n",
    "#     #    break"
   ]
  },
  {
   "cell_type": "code",
   "execution_count": null,
   "metadata": {
    "ExecuteTime": {
     "end_time": "2019-05-09T02:38:39.420964Z",
     "start_time": "2019-05-09T02:37:38.365927Z"
    },
    "scrolled": true
   },
   "outputs": [],
   "source": [
    "import multiprocessing as mp\n",
    "import sys \n",
    "i = 0\n",
    "transitions = []\n",
    "def process(tax_sample):\n",
    "    time0 = time.time()\n",
    "    trips = gpd.GeoDataFrame(tax_sample, geometry = tax_sample.apply(lambda x:LineString([[x[0], x[1]], [x[2], x[3]]]), axis = 1))\n",
    "    transition, outlier = aggregate_by_zone2(man, trips)\n",
    "    transitions.append(transition)\n",
    "    print(f'{i}:{time.time()-time0}')\n",
    "    sys.stdout.flush()\n",
    "    return transitions\n",
    "pool = mp.Pool(4)\n",
    "funclist = []\n",
    "transitions = []\n",
    "\n",
    "tax = pd.read_csv(r'yellow_tripdata_2016-01.csv',usecols=['dropoff_longitude', 'dropoff_latitude', 'pickup_longitude', 'pickup_latitude'],chunksize = 1000, dtype =np.float32, nrows = 3000)\n",
    "i = 0\n",
    "for tax_sample in tax:\n",
    "    i = i + 1\n",
    "    print(i)\n",
    "    f = pool.apply_async(process, [tax_sample])\n",
    "    funclist.append(f)\n",
    "for f in funclist:\n",
    "    transitions.append(f.get(timeout = 60))"
   ]
  },
  {
   "cell_type": "code",
   "execution_count": null,
   "metadata": {
    "ExecuteTime": {
     "end_time": "2019-05-09T02:25:01.717435Z",
     "start_time": "2019-05-09T02:24:55.845069Z"
    }
   },
   "outputs": [],
   "source": [
    "import dask.dataframe as dd\n",
    "from dask.distributed import Client"
   ]
  },
  {
   "cell_type": "code",
   "execution_count": null,
   "metadata": {
    "ExecuteTime": {
     "end_time": "2019-05-09T02:25:28.433556Z",
     "start_time": "2019-05-09T02:25:07.400460Z"
    }
   },
   "outputs": [],
   "source": [
    "client = Client()"
   ]
  },
  {
   "cell_type": "code",
   "execution_count": null,
   "metadata": {
    "ExecuteTime": {
     "end_time": "2019-05-09T02:36:01.666844Z",
     "start_time": "2019-05-09T02:33:27.198352Z"
    }
   },
   "outputs": [],
   "source": [
    "i = 0\n",
    "transitions = []\n",
    "from dask import delayed\n",
    "def process(tax_sample):\n",
    "    time0 = time.time()\n",
    "    trips = gpd.GeoDataFrame(tax_sample, geometry = tax_sample.apply(lambda x:LineString([[x[0], x[1]], [x[2], x[3]]]), axis = 1))\n",
    "    transition, outlier = aggregate_by_zone2(man, trips)\n",
    "    transitions.append(transition)\n",
    "    print(f'{i}:{time.time()-time0}')\n",
    "    sys.stdout.flush()\n",
    "    return transitions\n",
    "\n",
    "tax = dd.read_csv(r'yellow_tripdata_2016-01.csv',usecols=['dropoff_longitude', 'dropoff_latitude', 'pickup_longitude', 'pickup_latitude'],blocksize = 10000)\n",
    "result = delayed(process)(tax)\n",
    "transitions = client.compute(result)"
   ]
  },
  {
   "cell_type": "code",
   "execution_count": null,
   "metadata": {
    "ExecuteTime": {
     "end_time": "2019-04-16T06:10:50.345032Z",
     "start_time": "2019-04-16T06:10:50.313033Z"
    }
   },
   "outputs": [],
   "source": [
    "dd.read_csv??"
   ]
  },
  {
   "cell_type": "code",
   "execution_count": null,
   "metadata": {
    "ExecuteTime": {
     "end_time": "2019-04-16T06:07:25.113353Z",
     "start_time": "2019-04-16T06:07:25.071354Z"
    }
   },
   "outputs": [],
   "source": [
    "client.compute()"
   ]
  },
  {
   "cell_type": "code",
   "execution_count": null,
   "metadata": {
    "ExecuteTime": {
     "end_time": "2019-04-16T05:23:32.753994Z",
     "start_time": "2019-04-16T05:23:32.719993Z"
    }
   },
   "outputs": [],
   "source": [
    "pool.apply_async??"
   ]
  },
  {
   "cell_type": "code",
   "execution_count": null,
   "metadata": {
    "ExecuteTime": {
     "end_time": "2019-04-16T05:21:30.548936Z",
     "start_time": "2019-04-16T05:21:30.539933Z"
    }
   },
   "outputs": [],
   "source": [
    "transitions.__dir__()"
   ]
  },
  {
   "cell_type": "code",
   "execution_count": null,
   "metadata": {
    "ExecuteTime": {
     "end_time": "2019-04-16T05:18:57.427877Z",
     "start_time": "2019-04-16T05:18:57.419876Z"
    }
   },
   "outputs": [],
   "source": [
    "transitions"
   ]
  },
  {
   "cell_type": "code",
   "execution_count": null,
   "metadata": {
    "ExecuteTime": {
     "end_time": "2019-04-16T05:17:22.752022Z",
     "start_time": "2019-04-16T05:17:22.692022Z"
    }
   },
   "outputs": [],
   "source": [
    "pool.apply_async??"
   ]
  },
  {
   "cell_type": "code",
   "execution_count": null,
   "metadata": {
    "ExecuteTime": {
     "end_time": "2019-04-16T05:03:38.481842Z",
     "start_time": "2019-04-16T05:03:38.471839Z"
    }
   },
   "outputs": [],
   "source": [
    "len(transitions)"
   ]
  },
  {
   "cell_type": "code",
   "execution_count": null,
   "metadata": {
    "ExecuteTime": {
     "end_time": "2019-04-16T05:00:26.574725Z",
     "start_time": "2019-04-16T05:00:26.537725Z"
    }
   },
   "outputs": [],
   "source": [
    "t = pd.concat(transitions,axis = 0)"
   ]
  },
  {
   "cell_type": "code",
   "execution_count": null,
   "metadata": {
    "ExecuteTime": {
     "end_time": "2019-04-16T05:00:29.275787Z",
     "start_time": "2019-04-16T05:00:29.242786Z"
    }
   },
   "outputs": [],
   "source": [
    "t"
   ]
  },
  {
   "cell_type": "code",
   "execution_count": null,
   "metadata": {
    "ExecuteTime": {
     "end_time": "2019-04-16T03:24:49.127614Z",
     "start_time": "2019-04-16T03:24:48.918613Z"
    }
   },
   "outputs": [],
   "source": [
    "t['count'] = 1\n",
    "t.groupby(['pu', 'do']).count().to_csv(r'temp.csv')"
   ]
  },
  {
   "cell_type": "code",
   "execution_count": null,
   "metadata": {},
   "outputs": [],
   "source": []
  },
  {
   "cell_type": "code",
   "execution_count": null,
   "metadata": {},
   "outputs": [],
   "source": []
  },
  {
   "cell_type": "code",
   "execution_count": null,
   "metadata": {},
   "outputs": [],
   "source": []
  },
  {
   "cell_type": "code",
   "execution_count": null,
   "metadata": {},
   "outputs": [],
   "source": []
  },
  {
   "cell_type": "code",
   "execution_count": null,
   "metadata": {},
   "outputs": [],
   "source": []
  },
  {
   "cell_type": "code",
   "execution_count": null,
   "metadata": {
    "ExecuteTime": {
     "end_time": "2019-04-16T02:45:27.974074Z",
     "start_time": "2019-04-16T02:45:23.157392Z"
    },
    "scrolled": true
   },
   "outputs": [],
   "source": [
    "trips = trips[trips.geometry.apply(lambda x:len(x.boundary)>1)]\n",
    "trips.reset_index(inplace = True, drop = True)\n",
    "pu = gpd.GeoDataFrame(trips.geometry.apply(lambda x:x.boundary[0]))\n",
    "do = gpd.GeoDataFrame(trips.geometry.apply(lambda x:x.boundary[1]))\n",
    "pu_joined_zones = gpd.sjoin(zones, pu, how=\"right\", op='contains').sort_index()\n",
    "do_joined_zones = gpd.sjoin(zones, do, how=\"right\", op='contains').sort_index()\n",
    "agg = pd.concat([pu_joined_zones[['LocationID']], do_joined_zones[['LocationID']]],axis = 1, join = 'inner')\n",
    "agg.columns = ['pu', 'do']\n",
    "agg = agg[(-pd.isna(agg.do) & -pd.isna(agg.pu))]"
   ]
  },
  {
   "cell_type": "code",
   "execution_count": null,
   "metadata": {
    "ExecuteTime": {
     "end_time": "2019-04-16T02:44:05.303012Z",
     "start_time": "2019-04-16T02:44:05.262001Z"
    },
    "scrolled": true
   },
   "outputs": [],
   "source": [
    "agg[(-pd.isna(agg.do) & -pd.isna(agg.pu))]"
   ]
  },
  {
   "cell_type": "code",
   "execution_count": null,
   "metadata": {
    "ExecuteTime": {
     "end_time": "2019-04-16T02:41:10.005533Z",
     "start_time": "2019-04-16T02:41:09.959534Z"
    },
    "scrolled": true
   },
   "outputs": [],
   "source": [
    "agg[list(agg.notna().product(axis = 1))]"
   ]
  },
  {
   "cell_type": "code",
   "execution_count": null,
   "metadata": {
    "ExecuteTime": {
     "end_time": "2019-04-16T02:34:04.524191Z",
     "start_time": "2019-04-16T02:34:04.519191Z"
    }
   },
   "outputs": [],
   "source": [
    "agg['count'] = 1"
   ]
  },
  {
   "cell_type": "code",
   "execution_count": null,
   "metadata": {
    "ExecuteTime": {
     "end_time": "2019-04-16T02:34:09.495191Z",
     "start_time": "2019-04-16T02:34:09.474192Z"
    },
    "scrolled": true
   },
   "outputs": [],
   "source": [
    "agg.groupby(['pu', 'do'])['count'].count()"
   ]
  },
  {
   "cell_type": "code",
   "execution_count": null,
   "metadata": {
    "ExecuteTime": {
     "end_time": "2019-04-16T02:15:48.924450Z",
     "start_time": "2019-04-16T02:15:48.901449Z"
    }
   },
   "outputs": [],
   "source": [
    "trips.head()"
   ]
  },
  {
   "cell_type": "code",
   "execution_count": null,
   "metadata": {
    "ExecuteTime": {
     "end_time": "2019-04-16T02:22:57.600273Z",
     "start_time": "2019-04-16T02:22:57.559270Z"
    },
    "scrolled": true
   },
   "outputs": [],
   "source": [
    "agg = pd.concat([pu_joined_zones[['LocationID']], do_joined_zones[['LocationID']]],axis = 1, join = 'inner')\n",
    "agg.columns = ['pu', 'do']\n",
    "agg"
   ]
  },
  {
   "cell_type": "code",
   "execution_count": null,
   "metadata": {
    "ExecuteTime": {
     "end_time": "2019-04-16T02:19:48.525223Z",
     "start_time": "2019-04-16T02:19:48.519222Z"
    }
   },
   "outputs": [],
   "source": [
    "do_joined_zones.shape"
   ]
  },
  {
   "cell_type": "code",
   "execution_count": null,
   "metadata": {
    "ExecuteTime": {
     "end_time": "2019-04-16T02:17:44.414369Z",
     "start_time": "2019-04-16T02:17:44.393371Z"
    },
    "scrolled": true
   },
   "outputs": [],
   "source": [
    "pu_joined_zones[['index_left']]"
   ]
  },
  {
   "cell_type": "code",
   "execution_count": null,
   "metadata": {
    "ExecuteTime": {
     "end_time": "2019-04-16T02:15:34.272960Z",
     "start_time": "2019-04-16T02:15:34.243959Z"
    }
   },
   "outputs": [],
   "source": [
    "pu_joined_zones.head()"
   ]
  },
  {
   "cell_type": "code",
   "execution_count": null,
   "metadata": {
    "ExecuteTime": {
     "end_time": "2019-04-16T02:15:35.197959Z",
     "start_time": "2019-04-16T02:15:35.167961Z"
    }
   },
   "outputs": [],
   "source": [
    "do_joined_zones.head()"
   ]
  },
  {
   "cell_type": "code",
   "execution_count": null,
   "metadata": {
    "ExecuteTime": {
     "end_time": "2019-04-16T02:06:42.020646Z",
     "start_time": "2019-04-16T02:06:40.316647Z"
    }
   },
   "outputs": [],
   "source": [
    "t = gpd.sjoin(man, pu, how=\"right\", op='contains')"
   ]
  },
  {
   "cell_type": "code",
   "execution_count": null,
   "metadata": {
    "ExecuteTime": {
     "end_time": "2019-04-16T02:09:34.514147Z",
     "start_time": "2019-04-16T02:09:34.490143Z"
    }
   },
   "outputs": [],
   "source": [
    "man[man.index == 2]"
   ]
  },
  {
   "cell_type": "code",
   "execution_count": null,
   "metadata": {
    "ExecuteTime": {
     "end_time": "2019-04-16T02:11:38.977667Z",
     "start_time": "2019-04-16T02:11:38.406668Z"
    }
   },
   "outputs": [],
   "source": [
    "plot(man, t[t.index_left == 7])"
   ]
  },
  {
   "cell_type": "code",
   "execution_count": null,
   "metadata": {
    "ExecuteTime": {
     "end_time": "2019-04-16T01:44:04.535844Z",
     "start_time": "2019-04-16T01:44:04.268847Z"
    }
   },
   "outputs": [],
   "source": [
    "plot(man.loc[[0.0, 6.0, 13.0, 21.0, 29.0, 32.0, 40.0, 42.0, 45.0, 51.0, 53.0],],trips.loc[[1071946],])"
   ]
  },
  {
   "cell_type": "code",
   "execution_count": null,
   "metadata": {
    "ExecuteTime": {
     "end_time": "2019-04-16T01:35:33.048605Z",
     "start_time": "2019-04-16T01:35:32.232608Z"
    }
   },
   "outputs": [],
   "source": [
    "trips = gpd.GeoDataFrame(tax_sample, geometry = list(tax_sample.apply(lambda x:transform(x), axis = 1)))"
   ]
  },
  {
   "cell_type": "code",
   "execution_count": null,
   "metadata": {
    "ExecuteTime": {
     "end_time": "2019-04-16T01:41:31.901222Z",
     "start_time": "2019-04-16T01:41:31.891222Z"
    }
   },
   "outputs": [],
   "source": [
    "trips.loc[1071946,]"
   ]
  },
  {
   "cell_type": "code",
   "execution_count": null,
   "metadata": {
    "ExecuteTime": {
     "end_time": "2019-04-16T01:42:14.690555Z",
     "start_time": "2019-04-16T01:42:12.765556Z"
    }
   },
   "outputs": [],
   "source": [
    "t = gpd.sjoin(man, trips, how=\"right\", op='intersects')"
   ]
  },
  {
   "cell_type": "code",
   "execution_count": null,
   "metadata": {
    "ExecuteTime": {
     "end_time": "2019-04-16T01:56:14.241043Z",
     "start_time": "2019-04-16T01:56:14.147044Z"
    }
   },
   "outputs": [],
   "source": [
    "gpd.jo"
   ]
  },
  {
   "cell_type": "code",
   "execution_count": null,
   "metadata": {
    "ExecuteTime": {
     "end_time": "2019-04-16T01:43:49.073493Z",
     "start_time": "2019-04-16T01:43:49.063492Z"
    }
   },
   "outputs": [],
   "source": [
    "list(t.loc[1071946].index_left)"
   ]
  },
  {
   "cell_type": "code",
   "execution_count": null,
   "metadata": {},
   "outputs": [],
   "source": []
  },
  {
   "cell_type": "code",
   "execution_count": null,
   "metadata": {
    "ExecuteTime": {
     "end_time": "2019-04-16T01:26:22.602666Z",
     "start_time": "2019-04-16T01:26:22.595673Z"
    }
   },
   "outputs": [],
   "source": [
    "for i in range(5):\n",
    "    if i == 3:\n",
    "        \n",
    "    print(i)"
   ]
  },
  {
   "cell_type": "code",
   "execution_count": null,
   "metadata": {
    "ExecuteTime": {
     "end_time": "2019-04-16T01:12:59.539315Z",
     "start_time": "2019-04-16T01:12:59.531318Z"
    }
   },
   "outputs": [],
   "source": [
    "list(trips.geometry)[1].boundary[0]"
   ]
  },
  {
   "cell_type": "code",
   "execution_count": null,
   "metadata": {
    "ExecuteTime": {
     "end_time": "2019-04-16T01:18:43.807541Z",
     "start_time": "2019-04-16T01:18:43.585547Z"
    }
   },
   "outputs": [],
   "source": [
    "man.plot()"
   ]
  },
  {
   "cell_type": "code",
   "execution_count": null,
   "metadata": {
    "ExecuteTime": {
     "end_time": "2019-04-16T01:30:31.733301Z",
     "start_time": "2019-04-16T01:29:50.739573Z"
    },
    "scrolled": false
   },
   "outputs": [],
   "source": [
    "transitions = []\n",
    "outliers = []\n",
    "i = 0\n",
    "for tax_sample in tax:\n",
    "    time0 = time.time()\n",
    "    i += 1\n",
    "    #tax_sample.columns = ['pu1' , 'pu2', 'do1', 'do2']\n",
    "    trips = gpd.GeoDataFrame(tax_sample, geometry = list(tax_sample.apply(lambda x:transform(x), axis = 1)))\n",
    "    #trips = trips[trips.geometry.apply(lambda x:len(x.boundary)>1)]\n",
    "    #trips = trips[trips.geometry.apply(lambda x: find_zone([boundary], x.boundary[0]) != -1)]\n",
    "    #trips = trips[trips.geometry.apply(lambda x: find_zone([boundary], x.boundary[1]) != -1)]\n",
    "    transition, outlier = from_zone_to_transition_matrix(list(man.geometry), list(trips.geometry))\n",
    "    transitions.append(transition)\n",
    "    outliers.extend(outlier)\n",
    "    print(f'{i}:{time.time()-time0}')"
   ]
  },
  {
   "cell_type": "code",
   "execution_count": null,
   "metadata": {
    "ExecuteTime": {
     "end_time": "2019-04-16T00:19:34.315274Z",
     "start_time": "2019-04-16T00:19:34.308272Z"
    }
   },
   "outputs": [],
   "source": [
    "transitions[3].sum()"
   ]
  },
  {
   "cell_type": "code",
   "execution_count": null,
   "metadata": {},
   "outputs": [],
   "source": []
  },
  {
   "cell_type": "code",
   "execution_count": null,
   "metadata": {
    "ExecuteTime": {
     "end_time": "2019-04-15T23:58:17.490129Z",
     "start_time": "2019-04-15T23:58:17.469127Z"
    }
   },
   "outputs": [],
   "source": [
    "man[45:46]"
   ]
  },
  {
   "cell_type": "code",
   "execution_count": null,
   "metadata": {
    "ExecuteTime": {
     "end_time": "2019-04-15T23:38:11.836671Z",
     "start_time": "2019-04-15T23:38:11.683673Z"
    },
    "scrolled": true
   },
   "outputs": [],
   "source": [
    "zones[zones.borough == 'Manhattan']"
   ]
  },
  {
   "cell_type": "code",
   "execution_count": null,
   "metadata": {
    "ExecuteTime": {
     "end_time": "2019-04-15T23:37:04.853156Z",
     "start_time": "2019-04-15T23:37:04.845157Z"
    }
   },
   "outputs": [],
   "source": [
    "transition[0].sum(axis = 1)"
   ]
  },
  {
   "cell_type": "code",
   "execution_count": null,
   "metadata": {
    "ExecuteTime": {
     "end_time": "2019-04-15T22:59:12.891804Z",
     "start_time": "2019-04-15T22:59:12.137813Z"
    }
   },
   "outputs": [],
   "source": [
    "new_geo = pd.concat(geo)"
   ]
  },
  {
   "cell_type": "code",
   "execution_count": null,
   "metadata": {
    "ExecuteTime": {
     "end_time": "2019-04-15T23:11:32.348908Z",
     "start_time": "2019-04-15T23:11:32.339920Z"
    }
   },
   "outputs": [],
   "source": [
    "del(new_geo)"
   ]
  },
  {
   "cell_type": "code",
   "execution_count": null,
   "metadata": {
    "ExecuteTime": {
     "end_time": "2019-04-15T22:36:09.872627Z",
     "start_time": "2019-04-15T22:36:09.861631Z"
    }
   },
   "outputs": [],
   "source": [
    "geo.info()"
   ]
  },
  {
   "cell_type": "code",
   "execution_count": null,
   "metadata": {
    "ExecuteTime": {
     "end_time": "2019-04-15T20:39:12.855875Z",
     "start_time": "2019-04-15T20:34:25.026294Z"
    },
    "scrolled": true
   },
   "outputs": [],
   "source": [
    "boundary = gpd.GeoSeries(cascaded_union(list(man.geometry)))[0]\n",
    "geo = geo[geo.geometry.apply(lambda x: (x.boundary[0].within(boundary) and x.boundary[1].within(boundary)) if len(x.boundary)>1 else False)]     "
   ]
  },
  {
   "cell_type": "code",
   "execution_count": null,
   "metadata": {
    "ExecuteTime": {
     "end_time": "2019-04-15T20:39:12.860874Z",
     "start_time": "2019-04-15T20:34:19.660Z"
    }
   },
   "outputs": [],
   "source": [
    "geo.to_csv(r'temp.csv',index = False)"
   ]
  },
  {
   "cell_type": "code",
   "execution_count": null,
   "metadata": {
    "ExecuteTime": {
     "end_time": "2019-04-15T20:31:05.526312Z",
     "start_time": "2019-04-15T20:31:05.506290Z"
    }
   },
   "outputs": [],
   "source": [
    "new_geo = gpd.GeoDataFrame(pd.read_csv(r'temp.csv'))"
   ]
  },
  {
   "cell_type": "code",
   "execution_count": null,
   "metadata": {
    "ExecuteTime": {
     "end_time": "2019-04-15T20:31:06.386176Z",
     "start_time": "2019-04-15T20:31:06.372182Z"
    }
   },
   "outputs": [],
   "source": [
    "new_geo.head()"
   ]
  },
  {
   "cell_type": "code",
   "execution_count": null,
   "metadata": {
    "ExecuteTime": {
     "end_time": "2019-04-15T20:20:33.660343Z",
     "start_time": "2019-04-15T20:20:33.653342Z"
    }
   },
   "outputs": [],
   "source": [
    "sum(sort)"
   ]
  },
  {
   "cell_type": "code",
   "execution_count": null,
   "metadata": {
    "ExecuteTime": {
     "end_time": "2019-04-15T20:13:51.940105Z",
     "start_time": "2019-04-15T20:13:51.906107Z"
    }
   },
   "outputs": [],
   "source": [
    "geo.geometry[324:325].apply(lambda x: x.boundary[0].within(boundary) and x.boundary[1].within(boundary))"
   ]
  },
  {
   "cell_type": "code",
   "execution_count": null,
   "metadata": {
    "ExecuteTime": {
     "end_time": "2019-04-15T19:13:21.246815Z",
     "start_time": "2019-04-15T19:13:21.224815Z"
    }
   },
   "outputs": [],
   "source": [
    "def within_boundary(x):\n",
    "    return x.within(boundary)"
   ]
  },
  {
   "cell_type": "code",
   "execution_count": null,
   "metadata": {
    "ExecuteTime": {
     "end_time": "2019-04-15T19:13:48.243126Z",
     "start_time": "2019-04-15T19:13:48.090082Z"
    }
   },
   "outputs": [],
   "source": []
  },
  {
   "cell_type": "code",
   "execution_count": null,
   "metadata": {
    "ExecuteTime": {
     "end_time": "2019-04-15T19:10:12.167271Z",
     "start_time": "2019-04-15T19:10:12.031272Z"
    }
   },
   "outputs": [],
   "source": [
    "zone.geometry"
   ]
  },
  {
   "cell_type": "code",
   "execution_count": null,
   "metadata": {},
   "outputs": [],
   "source": []
  },
  {
   "cell_type": "code",
   "execution_count": null,
   "metadata": {
    "ExecuteTime": {
     "end_time": "2019-04-15T18:56:28.339777Z",
     "start_time": "2019-04-15T18:56:12.488762Z"
    }
   },
   "outputs": [],
   "source": [
    "shape =\n",
    "gpd.read_file(r'NYC Street Centerline (CSCL)\\geo_export_1daa279c-aa85-4c43-b7ea-d5939a43054b.shp')\n"
   ]
  },
  {
   "cell_type": "code",
   "execution_count": null,
   "metadata": {
    "ExecuteTime": {
     "end_time": "2019-04-15T23:13:06.455784Z",
     "start_time": "2019-04-15T23:13:06.337768Z"
    }
   },
   "outputs": [],
   "source": [
    "zone = gpd.read_file(r'taxi_zones\\taxi_zones.shp')\n",
    "\n",
    "zone = zone.to_crs(\"+proj=longlat +ellps=WGS84 +datum=WGS84 +no_defs\")\n",
    "\n",
    "man= zone[zone.borough == 'Manhattan']"
   ]
  },
  {
   "cell_type": "code",
   "execution_count": null,
   "metadata": {
    "ExecuteTime": {
     "start_time": "2019-04-15T23:22:36.501Z"
    }
   },
   "outputs": [],
   "source": [
    "man.plot(figsize = (20,20))"
   ]
  },
  {
   "cell_type": "code",
   "execution_count": null,
   "metadata": {
    "ExecuteTime": {
     "end_time": "2019-04-15T23:14:09.913372Z",
     "start_time": "2019-04-15T23:14:09.772372Z"
    },
    "scrolled": true
   },
   "outputs": [],
   "source": [
    "man\n",
    "def divide(polygon,shape):\n",
    "    polygon"
   ]
  },
  {
   "cell_type": "code",
   "execution_count": null,
   "metadata": {
    "ExecuteTime": {
     "end_time": "2019-04-15T18:56:48.869469Z",
     "start_time": "2019-04-15T18:56:48.840466Z"
    }
   },
   "outputs": [],
   "source": [
    "list(zone.geometry[0].exterior.coords)"
   ]
  }
 ],
 "metadata": {
  "kernelspec": {
   "display_name": "Python 3",
   "language": "python",
   "name": "python3"
  },
  "language_info": {
   "codemirror_mode": {
    "name": "ipython",
    "version": 3
   },
   "file_extension": ".py",
   "mimetype": "text/x-python",
   "name": "python",
   "nbconvert_exporter": "python",
   "pygments_lexer": "ipython3",
   "version": "3.6.5"
  }
 },
 "nbformat": 4,
 "nbformat_minor": 2
}
