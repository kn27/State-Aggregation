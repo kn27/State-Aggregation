{
 "cells": [
  {
   "cell_type": "code",
   "execution_count": 1,
   "metadata": {
    "ExecuteTime": {
     "end_time": "2019-04-17T00:50:10.058498Z",
     "start_time": "2019-04-17T00:50:09.899498Z"
    }
   },
   "outputs": [],
   "source": [
    "%load_ext autoreload\n",
    "%autoreload 2"
   ]
  },
  {
   "cell_type": "code",
   "execution_count": 2,
   "metadata": {
    "ExecuteTime": {
     "end_time": "2019-04-17T00:50:11.489497Z",
     "start_time": "2019-04-17T00:50:10.108497Z"
    }
   },
   "outputs": [],
   "source": [
    "from matplotlib import pyplot as plt\n",
    "%matplotlib inline\n",
    "import pandas as pd\n",
    "import geopandas as gpd\n",
    "import os\n",
    "import shapely\n",
    "from shapely.geometry import LineString, Point\n",
    "from shapely.ops import cascaded_union\n",
    "import numpy as np\n",
    "import time\n",
    "\n",
    "from util import *"
   ]
  },
  {
   "cell_type": "code",
   "execution_count": 3,
   "metadata": {
    "ExecuteTime": {
     "end_time": "2019-04-17T00:50:14.895498Z",
     "start_time": "2019-04-17T00:50:11.492502Z"
    }
   },
   "outputs": [],
   "source": [
    "tax = pd.read_csv(r'yellow_tripdata_2016-01.csv',\n",
    "                    usecols=['dropoff_longitude', 'dropoff_latitude', 'pickup_longitude', 'pickup_latitude'],\n",
    "                    chunksize = 10000, dtype =np.float32, nrows = 30000)\n",
    "trips = get_trips(tax.get_chunk())\n",
    "man = get_zones()\n",
    "joint = get_joint_grid(man, 0)"
   ]
  },
  {
   "cell_type": "code",
   "execution_count": 29,
   "metadata": {
    "ExecuteTime": {
     "end_time": "2019-04-17T00:56:25.788751Z",
     "start_time": "2019-04-17T00:56:25.414713Z"
    }
   },
   "outputs": [],
   "source": [
    "zones = gpd.read_file(r'taxi_zones\\taxi_zones.shp')\n",
    "zones = zones.to_crs(\"+proj=longlat +ellps=WGS84 +datum=WGS84 +no_defs\")\n",
    "temp = zones[zones.borough == 'Manhattan'].reset_index(inplace = False, drop = True)"
   ]
  },
  {
   "cell_type": "code",
   "execution_count": 45,
   "metadata": {
    "ExecuteTime": {
     "end_time": "2019-04-17T01:04:15.100537Z",
     "start_time": "2019-04-17T01:04:08.868722Z"
    }
   },
   "outputs": [
    {
     "data": {
      "image/png": "[encoded data removed]",
      "text/plain": [
       "<Figure size 720x720 with 1 Axes>"
      ]
     },
     "metadata": {
      "needs_background": "light"
     },
     "output_type": "display_data"
    }
   ],
   "source": [
    "man = get_zones()\n",
    "joint = get_joint_grid(man, 50, True)\n",
    "c = aggregate_by_zone(trips, joint)"
   ]
  },
  {
   "cell_type": "code",
   "execution_count": 46,
   "metadata": {
    "ExecuteTime": {
     "end_time": "2019-04-17T01:04:16.789533Z",
     "start_time": "2019-04-17T01:04:16.471531Z"
    }
   },
   "outputs": [
    {
     "data": {
      "text/plain": [
       "702"
      ]
     },
     "execution_count": 46,
     "metadata": {},
     "output_type": "execute_result"
    }
   ],
   "source": [
    "len(joint)"
   ]
  },
  {
   "cell_type": "code",
   "execution_count": 40,
   "metadata": {
    "ExecuteTime": {
     "end_time": "2019-04-17T00:59:50.608571Z",
     "start_time": "2019-04-17T00:59:50.360567Z"
    }
   },
   "outputs": [
    {
     "data": {
      "text/plain": [
       "7779"
      ]
     },
     "execution_count": 40,
     "metadata": {},
     "output_type": "execute_result"
    }
   ],
   "source": [
    "len(c[0])"
   ]
  },
  {
   "cell_type": "code",
   "execution_count": 7,
   "metadata": {
    "ExecuteTime": {
     "end_time": "2019-04-17T00:52:26.156508Z",
     "start_time": "2019-04-17T00:52:23.269506Z"
    }
   },
   "outputs": [],
   "source": [
    "a = aggregate_by_zone(trips, joint)"
   ]
  },
  {
   "cell_type": "code",
   "execution_count": 13,
   "metadata": {
    "ExecuteTime": {
     "end_time": "2019-04-17T00:53:08.741505Z",
     "start_time": "2019-04-17T00:53:08.491508Z"
    }
   },
   "outputs": [
    {
     "data": {
      "text/plain": [
       "2629"
      ]
     },
     "execution_count": 13,
     "metadata": {},
     "output_type": "execute_result"
    }
   ],
   "source": [
    "len(a[0])"
   ]
  },
  {
   "cell_type": "code",
   "execution_count": 30,
   "metadata": {
    "ExecuteTime": {
     "end_time": "2019-04-17T00:56:33.390115Z",
     "start_time": "2019-04-17T00:56:31.678111Z"
    }
   },
   "outputs": [
    {
     "name": "stderr",
     "output_type": "stream",
     "text": [
      "C:\\ProgramData\\Anaconda3\\lib\\site-packages\\geopandas\\tools\\sjoin.py:44: UserWarning: CRS of frames being joined does not match!\n",
      "  warn('CRS of frames being joined does not match!')\n"
     ]
    }
   ],
   "source": [
    "b = aggregate_by_zone(trips,temp)"
   ]
  },
  {
   "cell_type": "code",
   "execution_count": 37,
   "metadata": {
    "ExecuteTime": {
     "end_time": "2019-04-17T00:57:48.303223Z",
     "start_time": "2019-04-17T00:57:48.098223Z"
    }
   },
   "outputs": [
    {
     "data": {
      "text/plain": [
       "7778"
      ]
     },
     "execution_count": 37,
     "metadata": {},
     "output_type": "execute_result"
    }
   ],
   "source": [
    "len(b[0])"
   ]
  },
  {
   "cell_type": "code",
   "execution_count": 24,
   "metadata": {
    "ExecuteTime": {
     "end_time": "2019-04-17T00:55:28.329533Z",
     "start_time": "2019-04-17T00:55:28.143530Z"
    }
   },
   "outputs": [
    {
     "data": {
      "text/plain": [
       "10000"
      ]
     },
     "execution_count": 24,
     "metadata": {},
     "output_type": "execute_result"
    }
   ],
   "source": [
    "len(trips)"
   ]
  },
  {
   "cell_type": "code",
   "execution_count": 26,
   "metadata": {
    "ExecuteTime": {
     "end_time": "2019-04-17T00:55:38.024606Z",
     "start_time": "2019-04-17T00:55:37.783606Z"
    }
   },
   "outputs": [
    {
     "data": {
      "text/html": [
       "<div>\n",
       "<style scoped>\n",
       "    .dataframe tbody tr th:only-of-type {\n",
       "        vertical-align: middle;\n",
       "    }\n",
       "\n",
       "    .dataframe tbody tr th {\n",
       "        vertical-align: top;\n",
       "    }\n",
       "\n",
       "    .dataframe thead th {\n",
       "        text-align: right;\n",
       "    }\n",
       "</style>\n",
       "<table border=\"1\" class=\"dataframe\">\n",
       "  <thead>\n",
       "    <tr style=\"text-align: right;\">\n",
       "      <th></th>\n",
       "      <th>geometry</th>\n",
       "    </tr>\n",
       "  </thead>\n",
       "  <tbody>\n",
       "    <tr>\n",
       "      <th>0</th>\n",
       "      <td>(POLYGON ((-73.95991723376321 40.6946635530692...</td>\n",
       "    </tr>\n",
       "  </tbody>\n",
       "</table>\n",
       "</div>"
      ],
      "text/plain": [
       "                                            geometry\n",
       "0  (POLYGON ((-73.95991723376321 40.6946635530692..."
      ]
     },
     "execution_count": 26,
     "metadata": {},
     "output_type": "execute_result"
    }
   ],
   "source": [
    "man"
   ]
  },
  {
   "cell_type": "code",
   "execution_count": 22,
   "metadata": {
    "ExecuteTime": {
     "end_time": "2019-04-17T00:55:11.406275Z",
     "start_time": "2019-04-17T00:55:07.813277Z"
    }
   },
   "outputs": [
    {
     "data": {
      "text/html": [
       "<div>\n",
       "<style scoped>\n",
       "    .dataframe tbody tr th:only-of-type {\n",
       "        vertical-align: middle;\n",
       "    }\n",
       "\n",
       "    .dataframe tbody tr th {\n",
       "        vertical-align: top;\n",
       "    }\n",
       "\n",
       "    .dataframe thead th {\n",
       "        text-align: right;\n",
       "    }\n",
       "</style>\n",
       "<table border=\"1\" class=\"dataframe\">\n",
       "  <thead>\n",
       "    <tr style=\"text-align: right;\">\n",
       "      <th></th>\n",
       "      <th>geometry</th>\n",
       "      <th>index_right</th>\n",
       "      <th>pickup_longitude</th>\n",
       "      <th>pickup_latitude</th>\n",
       "      <th>dropoff_longitude</th>\n",
       "      <th>dropoff_latitude</th>\n",
       "    </tr>\n",
       "  </thead>\n",
       "  <tbody>\n",
       "    <tr>\n",
       "      <th>0</th>\n",
       "      <td>(POLYGON ((-73.95991723376321 40.6946635530692...</td>\n",
       "      <td>7233</td>\n",
       "      <td>-73.955360</td>\n",
       "      <td>40.807007</td>\n",
       "      <td>-73.949249</td>\n",
       "      <td>40.822983</td>\n",
       "    </tr>\n",
       "    <tr>\n",
       "      <th>0</th>\n",
       "      <td>(POLYGON ((-73.95991723376321 40.6946635530692...</td>\n",
       "      <td>3234</td>\n",
       "      <td>-73.954666</td>\n",
       "      <td>40.821003</td>\n",
       "      <td>-73.954666</td>\n",
       "      <td>40.821003</td>\n",
       "    </tr>\n",
       "    <tr>\n",
       "      <th>0</th>\n",
       "      <td>(POLYGON ((-73.95991723376321 40.6946635530692...</td>\n",
       "      <td>9991</td>\n",
       "      <td>-73.954666</td>\n",
       "      <td>40.821003</td>\n",
       "      <td>-73.954666</td>\n",
       "      <td>40.821003</td>\n",
       "    </tr>\n",
       "    <tr>\n",
       "      <th>0</th>\n",
       "      <td>(POLYGON ((-73.95991723376321 40.6946635530692...</td>\n",
       "      <td>6910</td>\n",
       "      <td>-73.954666</td>\n",
       "      <td>40.821003</td>\n",
       "      <td>-73.954666</td>\n",
       "      <td>40.821003</td>\n",
       "    </tr>\n",
       "    <tr>\n",
       "      <th>0</th>\n",
       "      <td>(POLYGON ((-73.95991723376321 40.6946635530692...</td>\n",
       "      <td>5741</td>\n",
       "      <td>-73.954666</td>\n",
       "      <td>40.821003</td>\n",
       "      <td>-73.954666</td>\n",
       "      <td>40.821003</td>\n",
       "    </tr>\n",
       "    <tr>\n",
       "      <th>0</th>\n",
       "      <td>(POLYGON ((-73.95991723376321 40.6946635530692...</td>\n",
       "      <td>2279</td>\n",
       "      <td>-73.944778</td>\n",
       "      <td>40.821289</td>\n",
       "      <td>-73.941780</td>\n",
       "      <td>40.824730</td>\n",
       "    </tr>\n",
       "    <tr>\n",
       "      <th>0</th>\n",
       "      <td>(POLYGON ((-73.95991723376321 40.6946635530692...</td>\n",
       "      <td>1389</td>\n",
       "      <td>-73.951401</td>\n",
       "      <td>40.804573</td>\n",
       "      <td>-73.953316</td>\n",
       "      <td>40.811977</td>\n",
       "    </tr>\n",
       "    <tr>\n",
       "      <th>0</th>\n",
       "      <td>(POLYGON ((-73.95991723376321 40.6946635530692...</td>\n",
       "      <td>7850</td>\n",
       "      <td>-73.955238</td>\n",
       "      <td>40.814789</td>\n",
       "      <td>-73.954704</td>\n",
       "      <td>40.805183</td>\n",
       "    </tr>\n",
       "    <tr>\n",
       "      <th>0</th>\n",
       "      <td>(POLYGON ((-73.95991723376321 40.6946635530692...</td>\n",
       "      <td>6060</td>\n",
       "      <td>-73.938164</td>\n",
       "      <td>40.813019</td>\n",
       "      <td>-73.945229</td>\n",
       "      <td>40.808270</td>\n",
       "    </tr>\n",
       "    <tr>\n",
       "      <th>0</th>\n",
       "      <td>(POLYGON ((-73.95991723376321 40.6946635530692...</td>\n",
       "      <td>7345</td>\n",
       "      <td>-73.951309</td>\n",
       "      <td>40.810287</td>\n",
       "      <td>-73.952179</td>\n",
       "      <td>40.812397</td>\n",
       "    </tr>\n",
       "    <tr>\n",
       "      <th>0</th>\n",
       "      <td>(POLYGON ((-73.95991723376321 40.6946635530692...</td>\n",
       "      <td>129</td>\n",
       "      <td>-73.959747</td>\n",
       "      <td>40.801292</td>\n",
       "      <td>-73.950645</td>\n",
       "      <td>40.822933</td>\n",
       "    </tr>\n",
       "    <tr>\n",
       "      <th>0</th>\n",
       "      <td>(POLYGON ((-73.95991723376321 40.6946635530692...</td>\n",
       "      <td>8677</td>\n",
       "      <td>-73.952774</td>\n",
       "      <td>40.810944</td>\n",
       "      <td>-73.954979</td>\n",
       "      <td>40.815247</td>\n",
       "    </tr>\n",
       "    <tr>\n",
       "      <th>0</th>\n",
       "      <td>(POLYGON ((-73.95991723376321 40.6946635530692...</td>\n",
       "      <td>5983</td>\n",
       "      <td>-73.953178</td>\n",
       "      <td>40.807499</td>\n",
       "      <td>-73.954849</td>\n",
       "      <td>40.820099</td>\n",
       "    </tr>\n",
       "    <tr>\n",
       "      <th>0</th>\n",
       "      <td>(POLYGON ((-73.95991723376321 40.6946635530692...</td>\n",
       "      <td>4943</td>\n",
       "      <td>-73.955910</td>\n",
       "      <td>40.812851</td>\n",
       "      <td>-73.961060</td>\n",
       "      <td>40.796741</td>\n",
       "    </tr>\n",
       "    <tr>\n",
       "      <th>0</th>\n",
       "      <td>(POLYGON ((-73.95991723376321 40.6946635530692...</td>\n",
       "      <td>6759</td>\n",
       "      <td>-73.964478</td>\n",
       "      <td>40.807468</td>\n",
       "      <td>-73.958473</td>\n",
       "      <td>40.802616</td>\n",
       "    </tr>\n",
       "    <tr>\n",
       "      <th>0</th>\n",
       "      <td>(POLYGON ((-73.95991723376321 40.6946635530692...</td>\n",
       "      <td>6133</td>\n",
       "      <td>-73.975761</td>\n",
       "      <td>40.786568</td>\n",
       "      <td>-73.948753</td>\n",
       "      <td>40.823555</td>\n",
       "    </tr>\n",
       "    <tr>\n",
       "      <th>0</th>\n",
       "      <td>(POLYGON ((-73.95991723376321 40.6946635530692...</td>\n",
       "      <td>6422</td>\n",
       "      <td>-73.954140</td>\n",
       "      <td>40.806271</td>\n",
       "      <td>-73.967010</td>\n",
       "      <td>40.803970</td>\n",
       "    </tr>\n",
       "    <tr>\n",
       "      <th>0</th>\n",
       "      <td>(POLYGON ((-73.95991723376321 40.6946635530692...</td>\n",
       "      <td>8745</td>\n",
       "      <td>-73.958527</td>\n",
       "      <td>40.815708</td>\n",
       "      <td>-73.967049</td>\n",
       "      <td>40.795391</td>\n",
       "    </tr>\n",
       "    <tr>\n",
       "      <th>0</th>\n",
       "      <td>(POLYGON ((-73.95991723376321 40.6946635530692...</td>\n",
       "      <td>9633</td>\n",
       "      <td>-73.969719</td>\n",
       "      <td>40.797489</td>\n",
       "      <td>-73.956970</td>\n",
       "      <td>40.814369</td>\n",
       "    </tr>\n",
       "    <tr>\n",
       "      <th>0</th>\n",
       "      <td>(POLYGON ((-73.95991723376321 40.6946635530692...</td>\n",
       "      <td>1961</td>\n",
       "      <td>-73.968040</td>\n",
       "      <td>40.801247</td>\n",
       "      <td>-73.955154</td>\n",
       "      <td>40.811962</td>\n",
       "    </tr>\n",
       "    <tr>\n",
       "      <th>0</th>\n",
       "      <td>(POLYGON ((-73.95991723376321 40.6946635530692...</td>\n",
       "      <td>3711</td>\n",
       "      <td>-73.964394</td>\n",
       "      <td>40.807552</td>\n",
       "      <td>-73.960030</td>\n",
       "      <td>40.806381</td>\n",
       "    </tr>\n",
       "    <tr>\n",
       "      <th>0</th>\n",
       "      <td>(POLYGON ((-73.95991723376321 40.6946635530692...</td>\n",
       "      <td>8598</td>\n",
       "      <td>-73.956932</td>\n",
       "      <td>40.804783</td>\n",
       "      <td>-73.953987</td>\n",
       "      <td>40.816254</td>\n",
       "    </tr>\n",
       "    <tr>\n",
       "      <th>0</th>\n",
       "      <td>(POLYGON ((-73.95991723376321 40.6946635530692...</td>\n",
       "      <td>4678</td>\n",
       "      <td>-73.957260</td>\n",
       "      <td>40.817310</td>\n",
       "      <td>-73.966766</td>\n",
       "      <td>40.804298</td>\n",
       "    </tr>\n",
       "    <tr>\n",
       "      <th>0</th>\n",
       "      <td>(POLYGON ((-73.95991723376321 40.6946635530692...</td>\n",
       "      <td>1383</td>\n",
       "      <td>-73.953033</td>\n",
       "      <td>40.822559</td>\n",
       "      <td>-73.962822</td>\n",
       "      <td>40.799320</td>\n",
       "    </tr>\n",
       "    <tr>\n",
       "      <th>0</th>\n",
       "      <td>(POLYGON ((-73.95991723376321 40.6946635530692...</td>\n",
       "      <td>8834</td>\n",
       "      <td>-73.966682</td>\n",
       "      <td>40.804306</td>\n",
       "      <td>-73.954384</td>\n",
       "      <td>40.818146</td>\n",
       "    </tr>\n",
       "    <tr>\n",
       "      <th>0</th>\n",
       "      <td>(POLYGON ((-73.95991723376321 40.6946635530692...</td>\n",
       "      <td>8351</td>\n",
       "      <td>-73.962311</td>\n",
       "      <td>40.804916</td>\n",
       "      <td>-73.954155</td>\n",
       "      <td>40.818943</td>\n",
       "    </tr>\n",
       "    <tr>\n",
       "      <th>0</th>\n",
       "      <td>(POLYGON ((-73.95991723376321 40.6946635530692...</td>\n",
       "      <td>5345</td>\n",
       "      <td>-73.959114</td>\n",
       "      <td>40.809494</td>\n",
       "      <td>-73.951637</td>\n",
       "      <td>40.819633</td>\n",
       "    </tr>\n",
       "    <tr>\n",
       "      <th>0</th>\n",
       "      <td>(POLYGON ((-73.95991723376321 40.6946635530692...</td>\n",
       "      <td>6571</td>\n",
       "      <td>-73.955681</td>\n",
       "      <td>40.814152</td>\n",
       "      <td>-73.957314</td>\n",
       "      <td>40.821136</td>\n",
       "    </tr>\n",
       "    <tr>\n",
       "      <th>0</th>\n",
       "      <td>(POLYGON ((-73.95991723376321 40.6946635530692...</td>\n",
       "      <td>2004</td>\n",
       "      <td>-73.958443</td>\n",
       "      <td>40.815842</td>\n",
       "      <td>-73.952560</td>\n",
       "      <td>40.824039</td>\n",
       "    </tr>\n",
       "    <tr>\n",
       "      <th>0</th>\n",
       "      <td>(POLYGON ((-73.95991723376321 40.6946635530692...</td>\n",
       "      <td>876</td>\n",
       "      <td>-73.967621</td>\n",
       "      <td>40.801140</td>\n",
       "      <td>-73.952904</td>\n",
       "      <td>40.783051</td>\n",
       "    </tr>\n",
       "    <tr>\n",
       "      <th>...</th>\n",
       "      <td>...</td>\n",
       "      <td>...</td>\n",
       "      <td>...</td>\n",
       "      <td>...</td>\n",
       "      <td>...</td>\n",
       "      <td>...</td>\n",
       "    </tr>\n",
       "    <tr>\n",
       "      <th>0</th>\n",
       "      <td>(POLYGON ((-73.95991723376321 40.6946635530692...</td>\n",
       "      <td>9620</td>\n",
       "      <td>-73.967560</td>\n",
       "      <td>40.756062</td>\n",
       "      <td>-73.956589</td>\n",
       "      <td>40.721699</td>\n",
       "    </tr>\n",
       "    <tr>\n",
       "      <th>0</th>\n",
       "      <td>(POLYGON ((-73.95991723376321 40.6946635530692...</td>\n",
       "      <td>2570</td>\n",
       "      <td>-73.984802</td>\n",
       "      <td>40.758419</td>\n",
       "      <td>-73.943916</td>\n",
       "      <td>40.727760</td>\n",
       "    </tr>\n",
       "    <tr>\n",
       "      <th>0</th>\n",
       "      <td>(POLYGON ((-73.95991723376321 40.6946635530692...</td>\n",
       "      <td>3836</td>\n",
       "      <td>-73.982292</td>\n",
       "      <td>40.736145</td>\n",
       "      <td>-73.977333</td>\n",
       "      <td>40.727291</td>\n",
       "    </tr>\n",
       "    <tr>\n",
       "      <th>0</th>\n",
       "      <td>(POLYGON ((-73.95991723376321 40.6946635530692...</td>\n",
       "      <td>5840</td>\n",
       "      <td>-73.980652</td>\n",
       "      <td>40.734051</td>\n",
       "      <td>-73.977432</td>\n",
       "      <td>40.732689</td>\n",
       "    </tr>\n",
       "    <tr>\n",
       "      <th>0</th>\n",
       "      <td>(POLYGON ((-73.95991723376321 40.6946635530692...</td>\n",
       "      <td>3878</td>\n",
       "      <td>-73.951576</td>\n",
       "      <td>40.713833</td>\n",
       "      <td>-73.955154</td>\n",
       "      <td>40.708122</td>\n",
       "    </tr>\n",
       "    <tr>\n",
       "      <th>0</th>\n",
       "      <td>(POLYGON ((-73.95991723376321 40.6946635530692...</td>\n",
       "      <td>6651</td>\n",
       "      <td>-73.954315</td>\n",
       "      <td>40.710682</td>\n",
       "      <td>-73.954567</td>\n",
       "      <td>40.714802</td>\n",
       "    </tr>\n",
       "    <tr>\n",
       "      <th>0</th>\n",
       "      <td>(POLYGON ((-73.95991723376321 40.6946635530692...</td>\n",
       "      <td>1878</td>\n",
       "      <td>-73.950790</td>\n",
       "      <td>40.710979</td>\n",
       "      <td>-73.949516</td>\n",
       "      <td>40.714981</td>\n",
       "    </tr>\n",
       "    <tr>\n",
       "      <th>0</th>\n",
       "      <td>(POLYGON ((-73.95991723376321 40.6946635530692...</td>\n",
       "      <td>6456</td>\n",
       "      <td>-73.956650</td>\n",
       "      <td>40.712734</td>\n",
       "      <td>-73.946846</td>\n",
       "      <td>40.717918</td>\n",
       "    </tr>\n",
       "    <tr>\n",
       "      <th>0</th>\n",
       "      <td>(POLYGON ((-73.95991723376321 40.6946635530692...</td>\n",
       "      <td>8359</td>\n",
       "      <td>-73.958244</td>\n",
       "      <td>40.721607</td>\n",
       "      <td>-73.951233</td>\n",
       "      <td>40.711086</td>\n",
       "    </tr>\n",
       "    <tr>\n",
       "      <th>0</th>\n",
       "      <td>(POLYGON ((-73.95991723376321 40.6946635530692...</td>\n",
       "      <td>7774</td>\n",
       "      <td>-73.963783</td>\n",
       "      <td>40.710743</td>\n",
       "      <td>-73.940369</td>\n",
       "      <td>40.723721</td>\n",
       "    </tr>\n",
       "    <tr>\n",
       "      <th>0</th>\n",
       "      <td>(POLYGON ((-73.95991723376321 40.6946635530692...</td>\n",
       "      <td>7442</td>\n",
       "      <td>-73.953499</td>\n",
       "      <td>40.710781</td>\n",
       "      <td>-73.946686</td>\n",
       "      <td>40.725178</td>\n",
       "    </tr>\n",
       "    <tr>\n",
       "      <th>0</th>\n",
       "      <td>(POLYGON ((-73.95991723376321 40.6946635530692...</td>\n",
       "      <td>8564</td>\n",
       "      <td>-73.957642</td>\n",
       "      <td>40.714577</td>\n",
       "      <td>-73.940979</td>\n",
       "      <td>40.722195</td>\n",
       "    </tr>\n",
       "    <tr>\n",
       "      <th>0</th>\n",
       "      <td>(POLYGON ((-73.95991723376321 40.6946635530692...</td>\n",
       "      <td>2123</td>\n",
       "      <td>-73.951279</td>\n",
       "      <td>40.715416</td>\n",
       "      <td>-73.955902</td>\n",
       "      <td>40.721519</td>\n",
       "    </tr>\n",
       "    <tr>\n",
       "      <th>0</th>\n",
       "      <td>(POLYGON ((-73.95991723376321 40.6946635530692...</td>\n",
       "      <td>9487</td>\n",
       "      <td>-73.958191</td>\n",
       "      <td>40.721790</td>\n",
       "      <td>-73.951576</td>\n",
       "      <td>40.715210</td>\n",
       "    </tr>\n",
       "    <tr>\n",
       "      <th>0</th>\n",
       "      <td>(POLYGON ((-73.95991723376321 40.6946635530692...</td>\n",
       "      <td>6345</td>\n",
       "      <td>-73.950928</td>\n",
       "      <td>40.710953</td>\n",
       "      <td>-73.948929</td>\n",
       "      <td>40.726391</td>\n",
       "    </tr>\n",
       "    <tr>\n",
       "      <th>0</th>\n",
       "      <td>(POLYGON ((-73.95991723376321 40.6946635530692...</td>\n",
       "      <td>1120</td>\n",
       "      <td>-73.952705</td>\n",
       "      <td>40.714191</td>\n",
       "      <td>-73.948570</td>\n",
       "      <td>40.723461</td>\n",
       "    </tr>\n",
       "    <tr>\n",
       "      <th>0</th>\n",
       "      <td>(POLYGON ((-73.95991723376321 40.6946635530692...</td>\n",
       "      <td>2856</td>\n",
       "      <td>-73.947121</td>\n",
       "      <td>40.722668</td>\n",
       "      <td>-73.947151</td>\n",
       "      <td>40.715702</td>\n",
       "    </tr>\n",
       "    <tr>\n",
       "      <th>0</th>\n",
       "      <td>(POLYGON ((-73.95991723376321 40.6946635530692...</td>\n",
       "      <td>6757</td>\n",
       "      <td>-73.950653</td>\n",
       "      <td>40.721687</td>\n",
       "      <td>-73.953705</td>\n",
       "      <td>40.719604</td>\n",
       "    </tr>\n",
       "    <tr>\n",
       "      <th>0</th>\n",
       "      <td>(POLYGON ((-73.95991723376321 40.6946635530692...</td>\n",
       "      <td>7121</td>\n",
       "      <td>-73.949982</td>\n",
       "      <td>40.722404</td>\n",
       "      <td>-73.949982</td>\n",
       "      <td>40.722401</td>\n",
       "    </tr>\n",
       "    <tr>\n",
       "      <th>0</th>\n",
       "      <td>(POLYGON ((-73.95991723376321 40.6946635530692...</td>\n",
       "      <td>8833</td>\n",
       "      <td>-73.958481</td>\n",
       "      <td>40.710152</td>\n",
       "      <td>-73.958672</td>\n",
       "      <td>40.710419</td>\n",
       "    </tr>\n",
       "    <tr>\n",
       "      <th>0</th>\n",
       "      <td>(POLYGON ((-73.95991723376321 40.6946635530692...</td>\n",
       "      <td>5051</td>\n",
       "      <td>-73.959976</td>\n",
       "      <td>40.713661</td>\n",
       "      <td>-73.966255</td>\n",
       "      <td>40.707211</td>\n",
       "    </tr>\n",
       "    <tr>\n",
       "      <th>0</th>\n",
       "      <td>(POLYGON ((-73.95991723376321 40.6946635530692...</td>\n",
       "      <td>3529</td>\n",
       "      <td>-73.954369</td>\n",
       "      <td>40.710667</td>\n",
       "      <td>-73.966469</td>\n",
       "      <td>40.711521</td>\n",
       "    </tr>\n",
       "    <tr>\n",
       "      <th>0</th>\n",
       "      <td>(POLYGON ((-73.95991723376321 40.6946635530692...</td>\n",
       "      <td>9579</td>\n",
       "      <td>-73.949562</td>\n",
       "      <td>40.714088</td>\n",
       "      <td>-73.962448</td>\n",
       "      <td>40.709034</td>\n",
       "    </tr>\n",
       "    <tr>\n",
       "      <th>0</th>\n",
       "      <td>(POLYGON ((-73.95991723376321 40.6946635530692...</td>\n",
       "      <td>25</td>\n",
       "      <td>-73.963913</td>\n",
       "      <td>40.712173</td>\n",
       "      <td>-73.951332</td>\n",
       "      <td>40.712200</td>\n",
       "    </tr>\n",
       "    <tr>\n",
       "      <th>0</th>\n",
       "      <td>(POLYGON ((-73.95991723376321 40.6946635530692...</td>\n",
       "      <td>7350</td>\n",
       "      <td>-73.953659</td>\n",
       "      <td>40.710732</td>\n",
       "      <td>-73.964996</td>\n",
       "      <td>40.714291</td>\n",
       "    </tr>\n",
       "    <tr>\n",
       "      <th>0</th>\n",
       "      <td>(POLYGON ((-73.95991723376321 40.6946635530692...</td>\n",
       "      <td>7067</td>\n",
       "      <td>-73.958031</td>\n",
       "      <td>40.713905</td>\n",
       "      <td>-73.963631</td>\n",
       "      <td>40.711155</td>\n",
       "    </tr>\n",
       "    <tr>\n",
       "      <th>0</th>\n",
       "      <td>(POLYGON ((-73.95991723376321 40.6946635530692...</td>\n",
       "      <td>6294</td>\n",
       "      <td>-73.958496</td>\n",
       "      <td>40.713032</td>\n",
       "      <td>-73.961266</td>\n",
       "      <td>40.712963</td>\n",
       "    </tr>\n",
       "    <tr>\n",
       "      <th>0</th>\n",
       "      <td>(POLYGON ((-73.95991723376321 40.6946635530692...</td>\n",
       "      <td>4188</td>\n",
       "      <td>-73.963844</td>\n",
       "      <td>40.710526</td>\n",
       "      <td>-73.964653</td>\n",
       "      <td>40.715801</td>\n",
       "    </tr>\n",
       "    <tr>\n",
       "      <th>0</th>\n",
       "      <td>(POLYGON ((-73.95991723376321 40.6946635530692...</td>\n",
       "      <td>6746</td>\n",
       "      <td>-73.962791</td>\n",
       "      <td>40.717251</td>\n",
       "      <td>-73.953857</td>\n",
       "      <td>40.710289</td>\n",
       "    </tr>\n",
       "    <tr>\n",
       "      <th>0</th>\n",
       "      <td>(POLYGON ((-73.95991723376321 40.6946635530692...</td>\n",
       "      <td>6595</td>\n",
       "      <td>-73.957779</td>\n",
       "      <td>40.717751</td>\n",
       "      <td>-73.954910</td>\n",
       "      <td>40.710861</td>\n",
       "    </tr>\n",
       "  </tbody>\n",
       "</table>\n",
       "<p>1504 rows × 6 columns</p>\n",
       "</div>"
      ],
      "text/plain": [
       "                                             geometry  index_right  \\\n",
       "0   (POLYGON ((-73.95991723376321 40.6946635530692...         7233   \n",
       "0   (POLYGON ((-73.95991723376321 40.6946635530692...         3234   \n",
       "0   (POLYGON ((-73.95991723376321 40.6946635530692...         9991   \n",
       "0   (POLYGON ((-73.95991723376321 40.6946635530692...         6910   \n",
       "0   (POLYGON ((-73.95991723376321 40.6946635530692...         5741   \n",
       "0   (POLYGON ((-73.95991723376321 40.6946635530692...         2279   \n",
       "0   (POLYGON ((-73.95991723376321 40.6946635530692...         1389   \n",
       "0   (POLYGON ((-73.95991723376321 40.6946635530692...         7850   \n",
       "0   (POLYGON ((-73.95991723376321 40.6946635530692...         6060   \n",
       "0   (POLYGON ((-73.95991723376321 40.6946635530692...         7345   \n",
       "0   (POLYGON ((-73.95991723376321 40.6946635530692...          129   \n",
       "0   (POLYGON ((-73.95991723376321 40.6946635530692...         8677   \n",
       "0   (POLYGON ((-73.95991723376321 40.6946635530692...         5983   \n",
       "0   (POLYGON ((-73.95991723376321 40.6946635530692...         4943   \n",
       "0   (POLYGON ((-73.95991723376321 40.6946635530692...         6759   \n",
       "0   (POLYGON ((-73.95991723376321 40.6946635530692...         6133   \n",
       "0   (POLYGON ((-73.95991723376321 40.6946635530692...         6422   \n",
       "0   (POLYGON ((-73.95991723376321 40.6946635530692...         8745   \n",
       "0   (POLYGON ((-73.95991723376321 40.6946635530692...         9633   \n",
       "0   (POLYGON ((-73.95991723376321 40.6946635530692...         1961   \n",
       "0   (POLYGON ((-73.95991723376321 40.6946635530692...         3711   \n",
       "0   (POLYGON ((-73.95991723376321 40.6946635530692...         8598   \n",
       "0   (POLYGON ((-73.95991723376321 40.6946635530692...         4678   \n",
       "0   (POLYGON ((-73.95991723376321 40.6946635530692...         1383   \n",
       "0   (POLYGON ((-73.95991723376321 40.6946635530692...         8834   \n",
       "0   (POLYGON ((-73.95991723376321 40.6946635530692...         8351   \n",
       "0   (POLYGON ((-73.95991723376321 40.6946635530692...         5345   \n",
       "0   (POLYGON ((-73.95991723376321 40.6946635530692...         6571   \n",
       "0   (POLYGON ((-73.95991723376321 40.6946635530692...         2004   \n",
       "0   (POLYGON ((-73.95991723376321 40.6946635530692...          876   \n",
       "..                                                ...          ...   \n",
       "0   (POLYGON ((-73.95991723376321 40.6946635530692...         9620   \n",
       "0   (POLYGON ((-73.95991723376321 40.6946635530692...         2570   \n",
       "0   (POLYGON ((-73.95991723376321 40.6946635530692...         3836   \n",
       "0   (POLYGON ((-73.95991723376321 40.6946635530692...         5840   \n",
       "0   (POLYGON ((-73.95991723376321 40.6946635530692...         3878   \n",
       "0   (POLYGON ((-73.95991723376321 40.6946635530692...         6651   \n",
       "0   (POLYGON ((-73.95991723376321 40.6946635530692...         1878   \n",
       "0   (POLYGON ((-73.95991723376321 40.6946635530692...         6456   \n",
       "0   (POLYGON ((-73.95991723376321 40.6946635530692...         8359   \n",
       "0   (POLYGON ((-73.95991723376321 40.6946635530692...         7774   \n",
       "0   (POLYGON ((-73.95991723376321 40.6946635530692...         7442   \n",
       "0   (POLYGON ((-73.95991723376321 40.6946635530692...         8564   \n",
       "0   (POLYGON ((-73.95991723376321 40.6946635530692...         2123   \n",
       "0   (POLYGON ((-73.95991723376321 40.6946635530692...         9487   \n",
       "0   (POLYGON ((-73.95991723376321 40.6946635530692...         6345   \n",
       "0   (POLYGON ((-73.95991723376321 40.6946635530692...         1120   \n",
       "0   (POLYGON ((-73.95991723376321 40.6946635530692...         2856   \n",
       "0   (POLYGON ((-73.95991723376321 40.6946635530692...         6757   \n",
       "0   (POLYGON ((-73.95991723376321 40.6946635530692...         7121   \n",
       "0   (POLYGON ((-73.95991723376321 40.6946635530692...         8833   \n",
       "0   (POLYGON ((-73.95991723376321 40.6946635530692...         5051   \n",
       "0   (POLYGON ((-73.95991723376321 40.6946635530692...         3529   \n",
       "0   (POLYGON ((-73.95991723376321 40.6946635530692...         9579   \n",
       "0   (POLYGON ((-73.95991723376321 40.6946635530692...           25   \n",
       "0   (POLYGON ((-73.95991723376321 40.6946635530692...         7350   \n",
       "0   (POLYGON ((-73.95991723376321 40.6946635530692...         7067   \n",
       "0   (POLYGON ((-73.95991723376321 40.6946635530692...         6294   \n",
       "0   (POLYGON ((-73.95991723376321 40.6946635530692...         4188   \n",
       "0   (POLYGON ((-73.95991723376321 40.6946635530692...         6746   \n",
       "0   (POLYGON ((-73.95991723376321 40.6946635530692...         6595   \n",
       "\n",
       "    pickup_longitude  pickup_latitude  dropoff_longitude  dropoff_latitude  \n",
       "0         -73.955360        40.807007         -73.949249         40.822983  \n",
       "0         -73.954666        40.821003         -73.954666         40.821003  \n",
       "0         -73.954666        40.821003         -73.954666         40.821003  \n",
       "0         -73.954666        40.821003         -73.954666         40.821003  \n",
       "0         -73.954666        40.821003         -73.954666         40.821003  \n",
       "0         -73.944778        40.821289         -73.941780         40.824730  \n",
       "0         -73.951401        40.804573         -73.953316         40.811977  \n",
       "0         -73.955238        40.814789         -73.954704         40.805183  \n",
       "0         -73.938164        40.813019         -73.945229         40.808270  \n",
       "0         -73.951309        40.810287         -73.952179         40.812397  \n",
       "0         -73.959747        40.801292         -73.950645         40.822933  \n",
       "0         -73.952774        40.810944         -73.954979         40.815247  \n",
       "0         -73.953178        40.807499         -73.954849         40.820099  \n",
       "0         -73.955910        40.812851         -73.961060         40.796741  \n",
       "0         -73.964478        40.807468         -73.958473         40.802616  \n",
       "0         -73.975761        40.786568         -73.948753         40.823555  \n",
       "0         -73.954140        40.806271         -73.967010         40.803970  \n",
       "0         -73.958527        40.815708         -73.967049         40.795391  \n",
       "0         -73.969719        40.797489         -73.956970         40.814369  \n",
       "0         -73.968040        40.801247         -73.955154         40.811962  \n",
       "0         -73.964394        40.807552         -73.960030         40.806381  \n",
       "0         -73.956932        40.804783         -73.953987         40.816254  \n",
       "0         -73.957260        40.817310         -73.966766         40.804298  \n",
       "0         -73.953033        40.822559         -73.962822         40.799320  \n",
       "0         -73.966682        40.804306         -73.954384         40.818146  \n",
       "0         -73.962311        40.804916         -73.954155         40.818943  \n",
       "0         -73.959114        40.809494         -73.951637         40.819633  \n",
       "0         -73.955681        40.814152         -73.957314         40.821136  \n",
       "0         -73.958443        40.815842         -73.952560         40.824039  \n",
       "0         -73.967621        40.801140         -73.952904         40.783051  \n",
       "..               ...              ...                ...               ...  \n",
       "0         -73.967560        40.756062         -73.956589         40.721699  \n",
       "0         -73.984802        40.758419         -73.943916         40.727760  \n",
       "0         -73.982292        40.736145         -73.977333         40.727291  \n",
       "0         -73.980652        40.734051         -73.977432         40.732689  \n",
       "0         -73.951576        40.713833         -73.955154         40.708122  \n",
       "0         -73.954315        40.710682         -73.954567         40.714802  \n",
       "0         -73.950790        40.710979         -73.949516         40.714981  \n",
       "0         -73.956650        40.712734         -73.946846         40.717918  \n",
       "0         -73.958244        40.721607         -73.951233         40.711086  \n",
       "0         -73.963783        40.710743         -73.940369         40.723721  \n",
       "0         -73.953499        40.710781         -73.946686         40.725178  \n",
       "0         -73.957642        40.714577         -73.940979         40.722195  \n",
       "0         -73.951279        40.715416         -73.955902         40.721519  \n",
       "0         -73.958191        40.721790         -73.951576         40.715210  \n",
       "0         -73.950928        40.710953         -73.948929         40.726391  \n",
       "0         -73.952705        40.714191         -73.948570         40.723461  \n",
       "0         -73.947121        40.722668         -73.947151         40.715702  \n",
       "0         -73.950653        40.721687         -73.953705         40.719604  \n",
       "0         -73.949982        40.722404         -73.949982         40.722401  \n",
       "0         -73.958481        40.710152         -73.958672         40.710419  \n",
       "0         -73.959976        40.713661         -73.966255         40.707211  \n",
       "0         -73.954369        40.710667         -73.966469         40.711521  \n",
       "0         -73.949562        40.714088         -73.962448         40.709034  \n",
       "0         -73.963913        40.712173         -73.951332         40.712200  \n",
       "0         -73.953659        40.710732         -73.964996         40.714291  \n",
       "0         -73.958031        40.713905         -73.963631         40.711155  \n",
       "0         -73.958496        40.713032         -73.961266         40.712963  \n",
       "0         -73.963844        40.710526         -73.964653         40.715801  \n",
       "0         -73.962791        40.717251         -73.953857         40.710289  \n",
       "0         -73.957779        40.717751         -73.954910         40.710861  \n",
       "\n",
       "[1504 rows x 6 columns]"
      ]
     },
     "execution_count": 22,
     "metadata": {},
     "output_type": "execute_result"
    }
   ],
   "source": [
    "gpd.sjoin(man,trips, how=\"inner\", op='contains')"
   ]
  },
  {
   "cell_type": "code",
   "execution_count": null,
   "metadata": {
    "ExecuteTime": {
     "end_time": "2019-04-17T00:43:15.653781Z",
     "start_time": "2019-04-17T00:43:15.396777Z"
    }
   },
   "outputs": [],
   "source": [
    "b"
   ]
  },
  {
   "cell_type": "code",
   "execution_count": null,
   "metadata": {
    "ExecuteTime": {
     "end_time": "2019-04-17T00:39:24.805205Z",
     "start_time": "2019-04-17T00:39:24.473Z"
    }
   },
   "outputs": [],
   "source": [
    "output = pd.read_csv('50000.csv')"
   ]
  },
  {
   "cell_type": "code",
   "execution_count": null,
   "metadata": {
    "ExecuteTime": {
     "end_time": "2019-04-17T00:33:51.167385Z",
     "start_time": "2019-04-17T00:33:51.144384Z"
    }
   },
   "outputs": [],
   "source": [
    "output[(- pd.isna(output.pu)) & (- pd.isna(output.do))]"
   ]
  },
  {
   "cell_type": "code",
   "execution_count": null,
   "metadata": {
    "ExecuteTime": {
     "end_time": "2019-04-17T00:07:42.742143Z",
     "start_time": "2019-04-17T00:07:42.734147Z"
    },
    "hide_input": true
   },
   "outputs": [],
   "source": [
    "# def clean_up(df):\n",
    "#     check1 = df.pu1.apply(lambda x: x>=-74.25495645300373 and x <=-73.70002020503291)\n",
    "#     check2 = df.pu2.apply(lambda x: x>= 40.49787800728232 and x <= 40.91510319260628)\n",
    "#     check3 = df.do1.apply(lambda x: x>=-74.25495645300373 and x <=-73.70002020503291)\n",
    "#     check4 = df.do2.apply(lambda x: x>= 40.49787800728232 and x <= 40.91510319260628)\n",
    "#     return check1 * check2 * check3 * check4\n",
    "\n",
    "# class Trip():\n",
    "#     def __init__(self, pu, do):\n",
    "#         self.pu = pu\n",
    "#         self.do = do\n",
    "\n",
    "# class Transform():\n",
    "#     def __init__(self):\n",
    "#         self.count = 0\n",
    "#     def __call__(self, x):\n",
    "#         self.count +=1\n",
    "#         return LineString([[x[0], x[1]], [x[2], x[3]]])\n",
    "\n",
    "# transform = Transform()\n",
    "\n",
    "\n",
    "\n",
    "# def find_zone(zones, point):\n",
    "#     for i,zone in enumerate(zones):\n",
    "#         if point.within(zone):\n",
    "#             return i \n",
    "#     return -1\n",
    "\n",
    "# def aggregate_by_zone(zones, trips):\n",
    "#     n = len(zones)\n",
    "#     outlier = []\n",
    "#     transition = np.zeros((n,n))\n",
    "#     for trip in trips:\n",
    "#         if len(trip.boundary)>1:\n",
    "#             pu_zone = find_zone(zones, trip.boundary[0])\n",
    "#             if pu_zone == -1:\n",
    "#                 outlier.append(trip)\n",
    "#             else:\n",
    "#                 do_zone = find_zone(zones, trip.boundary[1])\n",
    "#                 if do_zone == -1:\n",
    "#                     outlier.append(trip)\n",
    "#                 else:\n",
    "#                     transition[pu_zone, do_zone] += 1\n",
    "#         else:\n",
    "#             pass\n",
    "#             #print(f'Check trip {trip}')\n",
    "#     return transition, outlier\n"
   ]
  },
  {
   "cell_type": "code",
   "execution_count": null,
   "metadata": {
    "ExecuteTime": {
     "end_time": "2019-04-17T00:27:50.231631Z",
     "start_time": "2019-04-17T00:27:50.203634Z"
    }
   },
   "outputs": [],
   "source": [
    "def aggregate_by_zone2(zones, trips):\n",
    "    #have to join individually because cannot find a way to find a field to join using geodataframe\n",
    "    trips = trips[trips.geometry.apply(lambda x:len(x.boundary)>1)]\n",
    "    trips.reset_index(inplace = True, drop = True)\n",
    "    pu = gpd.GeoDataFrame(trips.geometry.apply(lambda x:x.boundary[0]))\n",
    "    do = gpd.GeoDataFrame(trips.geometry.apply(lambda x:x.boundary[1]))\n",
    "    pu_joined_zones = gpd.sjoin(zones,pu, how=\"right\", op='contains')\n",
    "    do_joined_zones = gpd.sjoin(zones,do, how=\"right\", op='contains')\n",
    "    agg = pd.concat([pu_joined_zones[['index_left']], do_joined_zones[['index_left']]],axis = 1, join = 'inner')\n",
    "    agg.columns = ['pu', 'do']\n",
    "    return agg,None\n",
    "    #return agg[(-pd.isna(agg.do) & -pd.isna(agg.pu))], trips.loc[list(set(trips.index) - set(agg.index))]\n",
    "\n",
    "def plot(zones, trips):\n",
    "    fig, ax = plt.subplots(figsize = (15,15))\n",
    "    zones.plot(ax=ax)\n",
    "    trips.plot(ax = ax, color = 'red')\n",
    "\n",
    "def get_zones():\n",
    "    zones = gpd.read_file(r'taxi_zones\\taxi_zones.shp')\n",
    "    zones = zones.to_crs(\"+proj=longlat +ellps=WGS84 +datum=WGS84 +no_defs\")\n",
    "    temp = zones[zones.borough == 'Manhattan'].reset_index(inplace = False, drop = True)\n",
    "    temp = gpd.GeoDataFrame(geometry = [cascaded_union(temp.geometry)])\n",
    "    return gpd.GeoDataFrame(geometry = temp.rotate(36).geometry)\n",
    "\n",
    "def get_joint_grid(zones, bins = 50, plot = False):\n",
    "    long_set = np.arange(min(b.bounds[0] for b in zones.geometry), max(b.bounds[2] for b in zones.geometry), step = (max(b.bounds[2] for b in zones.geometry) - min(b.bounds[0] for b in zones.geometry))/bins) \n",
    "    long_set = [(long_set[i], long_set[i+1]) for i in range(len(long_set)-1)]\n",
    "    lat_set =  np.arange(min(b.bounds[1] for b in zones.geometry), max(b.bounds[3] for b in zones.geometry), step = (max(b.bounds[3] for b in zones.geometry) - min(b.bounds[1] for b in zones.geometry))/bins) \n",
    "    lat_set = [(lat_set[i], lat_set[i+1]) for i in range(len(lat_set)-1)]\n",
    "    grid = gpd.GeoDataFrame(geometry = [cascaded_union([Point(long[0], lat[0]),Point(long[1], lat[0]),Point(long[0], lat[1]),Point(long[1], lat[1])]).envelope for long in long_set for lat in lat_set])\n",
    "    joint = gpd.sjoin(grid, zones, how = 'inner', op = 'intersects')\n",
    "    joint.reset_index(drop = True, inplace = True)\n",
    "    joint.drop(['index_right'],axis = 1, inplace =True)\n",
    "    if plot:\n",
    "        fig, ax = plt.subplots(figsize = (10,10)) \n",
    "        joint.plot(**{'edgecolor': 'red'}, ax = ax)\n",
    "    return joint"
   ]
  },
  {
   "cell_type": "code",
   "execution_count": null,
   "metadata": {
    "ExecuteTime": {
     "end_time": "2019-04-17T00:27:52.417848Z",
     "start_time": "2019-04-17T00:27:51.028847Z"
    },
    "scrolled": true
   },
   "outputs": [],
   "source": [
    "man = get_zones()\n",
    "joined = get_joint_grid(man, 50)\n",
    "joined.head()"
   ]
  },
  {
   "cell_type": "code",
   "execution_count": null,
   "metadata": {
    "ExecuteTime": {
     "end_time": "2019-04-17T00:25:09.229353Z",
     "start_time": "2019-04-17T00:25:09.189350Z"
    }
   },
   "outputs": [],
   "source": [
    "joined.head()"
   ]
  },
  {
   "cell_type": "code",
   "execution_count": null,
   "metadata": {
    "ExecuteTime": {
     "end_time": "2019-04-16T05:39:33.538981Z",
     "start_time": "2019-04-16T05:39:33.499984Z"
    }
   },
   "outputs": [],
   "source": [
    "tax = pd.read_csv(r'yellow_tripdata_2016-01.csv',usecols=['dropoff_longitude', 'dropoff_latitude', 'pickup_longitude', 'pickup_latitude'],chunksize = 50000, dtype =np.float32)"
   ]
  },
  {
   "cell_type": "code",
   "execution_count": null,
   "metadata": {
    "ExecuteTime": {
     "end_time": "2019-04-16T03:19:48.264332Z",
     "start_time": "2019-04-16T03:13:39.438341Z"
    },
    "scrolled": true
   },
   "outputs": [],
   "source": [
    "transitions = []\n",
    "outliers = []\n",
    "i = 0\n",
    "for tax_sample in tax:\n",
    "    time0 = time.time()\n",
    "    i += 1\n",
    "    #tax_sample.columns = ['pu1' , 'pu2', 'do1', 'do2']\n",
    "    trips = gpd.GeoDataFrame(geometry = tax_sample.apply(lambda x:LineString([[x[0], x[1]], [x[2], x[3]]]), axis = 1))\n",
    "    #transition, outlier = aggregate_by_zone(list(man.geometry), list(trips.geometry))\n",
    "    transition, outlier = aggregate_by_zone2(man, trips)\n",
    "    transitions.append(transition)\n",
    "    #outliers.extend(outlier)\n",
    "    print(f'{i}:{time.time()-time0}')\n",
    "    #if i == 1:\n",
    "    #    break"
   ]
  },
  {
   "cell_type": "code",
   "execution_count": null,
   "metadata": {
    "ExecuteTime": {
     "end_time": "2019-04-16T16:38:36.844679Z",
     "start_time": "2019-04-16T16:37:35.799910Z"
    },
    "scrolled": true
   },
   "outputs": [],
   "source": [
    "import multiprocessing as mp\n",
    "import sys \n",
    "i = 0\n",
    "transitions = []\n",
    "def process(tax_sample):\n",
    "    time0 = time.time()\n",
    "    trips = gpd.GeoDataFrame(tax_sample, geometry = tax_sample.apply(lambda x:LineString([[x[0], x[1]], [x[2], x[3]]]), axis = 1))\n",
    "    transition, outlier = aggregate_by_zone2(man, trips)\n",
    "    transitions.append(transition)\n",
    "    print(f'{i}:{time.time()-time0}')\n",
    "    sys.stdout.flush()\n",
    "    return transitions\n",
    "\n",
    "\n",
    "pool = mp.Pool(4)\n",
    "funclist = []\n",
    "transitions = []\n",
    "\n",
    "tax = pd.read_csv(r'yellow_tripdata_2016-01.csv',usecols=['dropoff_longitude', 'dropoff_latitude', 'pickup_longitude', 'pickup_latitude'],chunksize = 10000, dtype =np.float32, nrows = 30000)\n",
    "i = 0\n",
    "for tax_sample in tax:\n",
    "    i = i + 1\n",
    "    print(i)\n",
    "    f = pool.apply_async(process, [tax_sample])\n",
    "    funclist.append(f)\n",
    "for f in funclist:\n",
    "    transitions.append(f.get(timeout = 60))"
   ]
  },
  {
   "cell_type": "code",
   "execution_count": null,
   "metadata": {},
   "outputs": [],
   "source": [
    "pool."
   ]
  },
  {
   "cell_type": "code",
   "execution_count": null,
   "metadata": {},
   "outputs": [],
   "source": [
    "mp"
   ]
  },
  {
   "cell_type": "code",
   "execution_count": null,
   "metadata": {
    "ExecuteTime": {
     "end_time": "2019-04-16T06:03:08.697628Z",
     "start_time": "2019-04-16T06:03:05.212560Z"
    }
   },
   "outputs": [],
   "source": [
    "import dask.dataframe as dd\n",
    "from dask.distributed import Client"
   ]
  },
  {
   "cell_type": "code",
   "execution_count": null,
   "metadata": {
    "ExecuteTime": {
     "end_time": "2019-04-16T06:03:34.418189Z",
     "start_time": "2019-04-16T06:03:08.703629Z"
    }
   },
   "outputs": [],
   "source": [
    "client = Client()\n",
    "client"
   ]
  },
  {
   "cell_type": "code",
   "execution_count": null,
   "metadata": {
    "ExecuteTime": {
     "end_time": "2019-04-16T06:16:33.575095Z",
     "start_time": "2019-04-16T06:13:42.438571Z"
    }
   },
   "outputs": [],
   "source": [
    "i = 0\n",
    "transitions = []\n",
    "from dask import delayed\n",
    "def process(tax_sample):\n",
    "    time0 = time.time()\n",
    "    trips = gpd.GeoDataFrame(tax_sample, geometry = tax_sample.apply(lambda x:LineString([[x[0], x[1]], [x[2], x[3]]]), axis = 1))\n",
    "    transition, outlier = aggregate_by_zone2(man, trips)\n",
    "    transitions.append(transition)\n",
    "    print(f'{i}:{time.time()-time0}')\n",
    "    sys.stdout.flush()\n",
    "    return transitions\n",
    "\n",
    "tax = dd.read_csv(r'yellow_tripdata_2016-01.csv',usecols=['dropoff_longitude', 'dropoff_latitude', 'pickup_longitude', 'pickup_latitude'],blocksize = 10000)\n",
    "result = delayed(process)(tax)\n",
    "transitions = client.compute(result)"
   ]
  },
  {
   "cell_type": "code",
   "execution_count": null,
   "metadata": {
    "ExecuteTime": {
     "end_time": "2019-04-16T06:10:50.345032Z",
     "start_time": "2019-04-16T06:10:50.313033Z"
    }
   },
   "outputs": [],
   "source": [
    "dd.read_csv??"
   ]
  },
  {
   "cell_type": "code",
   "execution_count": null,
   "metadata": {
    "ExecuteTime": {
     "end_time": "2019-04-16T06:07:25.113353Z",
     "start_time": "2019-04-16T06:07:25.071354Z"
    }
   },
   "outputs": [],
   "source": [
    "client.compute()"
   ]
  },
  {
   "cell_type": "code",
   "execution_count": null,
   "metadata": {
    "ExecuteTime": {
     "end_time": "2019-04-16T05:23:32.753994Z",
     "start_time": "2019-04-16T05:23:32.719993Z"
    }
   },
   "outputs": [],
   "source": [
    "pool.apply_async??"
   ]
  },
  {
   "cell_type": "code",
   "execution_count": null,
   "metadata": {
    "ExecuteTime": {
     "end_time": "2019-04-16T05:21:30.548936Z",
     "start_time": "2019-04-16T05:21:30.539933Z"
    }
   },
   "outputs": [],
   "source": [
    "transitions.__dir__()"
   ]
  },
  {
   "cell_type": "code",
   "execution_count": null,
   "metadata": {
    "ExecuteTime": {
     "end_time": "2019-04-16T05:18:57.427877Z",
     "start_time": "2019-04-16T05:18:57.419876Z"
    }
   },
   "outputs": [],
   "source": [
    "transitions"
   ]
  },
  {
   "cell_type": "code",
   "execution_count": null,
   "metadata": {
    "ExecuteTime": {
     "end_time": "2019-04-16T05:17:22.752022Z",
     "start_time": "2019-04-16T05:17:22.692022Z"
    }
   },
   "outputs": [],
   "source": [
    "pool.apply_async??"
   ]
  },
  {
   "cell_type": "code",
   "execution_count": null,
   "metadata": {
    "ExecuteTime": {
     "end_time": "2019-04-16T05:03:38.481842Z",
     "start_time": "2019-04-16T05:03:38.471839Z"
    }
   },
   "outputs": [],
   "source": [
    "len(transitions)"
   ]
  },
  {
   "cell_type": "code",
   "execution_count": null,
   "metadata": {
    "ExecuteTime": {
     "end_time": "2019-04-16T05:00:26.574725Z",
     "start_time": "2019-04-16T05:00:26.537725Z"
    }
   },
   "outputs": [],
   "source": [
    "t = pd.concat(transitions,axis = 0)"
   ]
  },
  {
   "cell_type": "code",
   "execution_count": null,
   "metadata": {
    "ExecuteTime": {
     "end_time": "2019-04-16T05:00:29.275787Z",
     "start_time": "2019-04-16T05:00:29.242786Z"
    }
   },
   "outputs": [],
   "source": [
    "t"
   ]
  },
  {
   "cell_type": "code",
   "execution_count": null,
   "metadata": {
    "ExecuteTime": {
     "end_time": "2019-04-16T03:24:49.127614Z",
     "start_time": "2019-04-16T03:24:48.918613Z"
    }
   },
   "outputs": [],
   "source": [
    "t['count'] = 1\n",
    "t.groupby(['pu', 'do']).count().to_csv(r'temp.csv')"
   ]
  },
  {
   "cell_type": "code",
   "execution_count": null,
   "metadata": {},
   "outputs": [],
   "source": []
  },
  {
   "cell_type": "code",
   "execution_count": null,
   "metadata": {},
   "outputs": [],
   "source": []
  },
  {
   "cell_type": "code",
   "execution_count": null,
   "metadata": {},
   "outputs": [],
   "source": []
  },
  {
   "cell_type": "code",
   "execution_count": null,
   "metadata": {},
   "outputs": [],
   "source": []
  },
  {
   "cell_type": "code",
   "execution_count": null,
   "metadata": {},
   "outputs": [],
   "source": []
  },
  {
   "cell_type": "code",
   "execution_count": null,
   "metadata": {
    "ExecuteTime": {
     "end_time": "2019-04-16T02:45:27.974074Z",
     "start_time": "2019-04-16T02:45:23.157392Z"
    },
    "scrolled": true
   },
   "outputs": [],
   "source": [
    "trips = trips[trips.geometry.apply(lambda x:len(x.boundary)>1)]\n",
    "trips.reset_index(inplace = True, drop = True)\n",
    "pu = gpd.GeoDataFrame(trips.geometry.apply(lambda x:x.boundary[0]))\n",
    "do = gpd.GeoDataFrame(trips.geometry.apply(lambda x:x.boundary[1]))\n",
    "pu_joined_zones = gpd.sjoin(zones, pu, how=\"right\", op='contains').sort_index()\n",
    "do_joined_zones = gpd.sjoin(zones, do, how=\"right\", op='contains').sort_index()\n",
    "agg = pd.concat([pu_joined_zones[['LocationID']], do_joined_zones[['LocationID']]],axis = 1, join = 'inner')\n",
    "agg.columns = ['pu', 'do']\n",
    "agg = agg[(-pd.isna(agg.do) & -pd.isna(agg.pu))]"
   ]
  },
  {
   "cell_type": "code",
   "execution_count": null,
   "metadata": {
    "ExecuteTime": {
     "end_time": "2019-04-16T02:44:05.303012Z",
     "start_time": "2019-04-16T02:44:05.262001Z"
    },
    "scrolled": true
   },
   "outputs": [],
   "source": [
    "agg[(-pd.isna(agg.do) & -pd.isna(agg.pu))]"
   ]
  },
  {
   "cell_type": "code",
   "execution_count": null,
   "metadata": {
    "ExecuteTime": {
     "end_time": "2019-04-16T02:41:10.005533Z",
     "start_time": "2019-04-16T02:41:09.959534Z"
    },
    "scrolled": true
   },
   "outputs": [],
   "source": [
    "agg[list(agg.notna().product(axis = 1))]"
   ]
  },
  {
   "cell_type": "code",
   "execution_count": null,
   "metadata": {
    "ExecuteTime": {
     "end_time": "2019-04-16T02:34:04.524191Z",
     "start_time": "2019-04-16T02:34:04.519191Z"
    }
   },
   "outputs": [],
   "source": [
    "agg['count'] = 1"
   ]
  },
  {
   "cell_type": "code",
   "execution_count": null,
   "metadata": {
    "ExecuteTime": {
     "end_time": "2019-04-16T02:34:09.495191Z",
     "start_time": "2019-04-16T02:34:09.474192Z"
    },
    "scrolled": true
   },
   "outputs": [],
   "source": [
    "agg.groupby(['pu', 'do'])['count'].count()"
   ]
  },
  {
   "cell_type": "code",
   "execution_count": null,
   "metadata": {
    "ExecuteTime": {
     "end_time": "2019-04-16T02:15:48.924450Z",
     "start_time": "2019-04-16T02:15:48.901449Z"
    }
   },
   "outputs": [],
   "source": [
    "trips.head()"
   ]
  },
  {
   "cell_type": "code",
   "execution_count": null,
   "metadata": {
    "ExecuteTime": {
     "end_time": "2019-04-16T02:22:57.600273Z",
     "start_time": "2019-04-16T02:22:57.559270Z"
    },
    "scrolled": true
   },
   "outputs": [],
   "source": [
    "agg = pd.concat([pu_joined_zones[['LocationID']], do_joined_zones[['LocationID']]],axis = 1, join = 'inner')\n",
    "agg.columns = ['pu', 'do']\n",
    "agg"
   ]
  },
  {
   "cell_type": "code",
   "execution_count": null,
   "metadata": {
    "ExecuteTime": {
     "end_time": "2019-04-16T02:19:48.525223Z",
     "start_time": "2019-04-16T02:19:48.519222Z"
    }
   },
   "outputs": [],
   "source": [
    "do_joined_zones.shape"
   ]
  },
  {
   "cell_type": "code",
   "execution_count": null,
   "metadata": {
    "ExecuteTime": {
     "end_time": "2019-04-16T02:17:44.414369Z",
     "start_time": "2019-04-16T02:17:44.393371Z"
    },
    "scrolled": true
   },
   "outputs": [],
   "source": [
    "pu_joined_zones[['index_left']]"
   ]
  },
  {
   "cell_type": "code",
   "execution_count": null,
   "metadata": {
    "ExecuteTime": {
     "end_time": "2019-04-16T02:15:34.272960Z",
     "start_time": "2019-04-16T02:15:34.243959Z"
    }
   },
   "outputs": [],
   "source": [
    "pu_joined_zones.head()"
   ]
  },
  {
   "cell_type": "code",
   "execution_count": null,
   "metadata": {
    "ExecuteTime": {
     "end_time": "2019-04-16T02:15:35.197959Z",
     "start_time": "2019-04-16T02:15:35.167961Z"
    }
   },
   "outputs": [],
   "source": [
    "do_joined_zones.head()"
   ]
  },
  {
   "cell_type": "code",
   "execution_count": null,
   "metadata": {
    "ExecuteTime": {
     "end_time": "2019-04-16T02:06:42.020646Z",
     "start_time": "2019-04-16T02:06:40.316647Z"
    }
   },
   "outputs": [],
   "source": [
    "t = gpd.sjoin(man, pu, how=\"right\", op='contains')"
   ]
  },
  {
   "cell_type": "code",
   "execution_count": null,
   "metadata": {
    "ExecuteTime": {
     "end_time": "2019-04-16T02:09:34.514147Z",
     "start_time": "2019-04-16T02:09:34.490143Z"
    }
   },
   "outputs": [],
   "source": [
    "man[man.index == 2]"
   ]
  },
  {
   "cell_type": "code",
   "execution_count": null,
   "metadata": {
    "ExecuteTime": {
     "end_time": "2019-04-16T02:11:38.977667Z",
     "start_time": "2019-04-16T02:11:38.406668Z"
    }
   },
   "outputs": [],
   "source": [
    "plot(man, t[t.index_left == 7])"
   ]
  },
  {
   "cell_type": "code",
   "execution_count": null,
   "metadata": {
    "ExecuteTime": {
     "end_time": "2019-04-16T01:44:04.535844Z",
     "start_time": "2019-04-16T01:44:04.268847Z"
    }
   },
   "outputs": [],
   "source": [
    "plot(man.loc[[0.0, 6.0, 13.0, 21.0, 29.0, 32.0, 40.0, 42.0, 45.0, 51.0, 53.0],],trips.loc[[1071946],])"
   ]
  },
  {
   "cell_type": "code",
   "execution_count": null,
   "metadata": {
    "ExecuteTime": {
     "end_time": "2019-04-16T01:35:33.048605Z",
     "start_time": "2019-04-16T01:35:32.232608Z"
    }
   },
   "outputs": [],
   "source": [
    "trips = gpd.GeoDataFrame(tax_sample, geometry = list(tax_sample.apply(lambda x:transform(x), axis = 1)))"
   ]
  },
  {
   "cell_type": "code",
   "execution_count": null,
   "metadata": {
    "ExecuteTime": {
     "end_time": "2019-04-16T01:41:31.901222Z",
     "start_time": "2019-04-16T01:41:31.891222Z"
    }
   },
   "outputs": [],
   "source": [
    "trips.loc[1071946,]"
   ]
  },
  {
   "cell_type": "code",
   "execution_count": null,
   "metadata": {
    "ExecuteTime": {
     "end_time": "2019-04-16T01:42:14.690555Z",
     "start_time": "2019-04-16T01:42:12.765556Z"
    }
   },
   "outputs": [],
   "source": [
    "t = gpd.sjoin(man, trips, how=\"right\", op='intersects')"
   ]
  },
  {
   "cell_type": "code",
   "execution_count": null,
   "metadata": {
    "ExecuteTime": {
     "end_time": "2019-04-16T01:56:14.241043Z",
     "start_time": "2019-04-16T01:56:14.147044Z"
    }
   },
   "outputs": [],
   "source": [
    "gpd.jo"
   ]
  },
  {
   "cell_type": "code",
   "execution_count": null,
   "metadata": {
    "ExecuteTime": {
     "end_time": "2019-04-16T01:43:49.073493Z",
     "start_time": "2019-04-16T01:43:49.063492Z"
    }
   },
   "outputs": [],
   "source": [
    "list(t.loc[1071946].index_left)"
   ]
  },
  {
   "cell_type": "code",
   "execution_count": null,
   "metadata": {},
   "outputs": [],
   "source": []
  },
  {
   "cell_type": "code",
   "execution_count": null,
   "metadata": {
    "ExecuteTime": {
     "end_time": "2019-04-16T01:26:22.602666Z",
     "start_time": "2019-04-16T01:26:22.595673Z"
    }
   },
   "outputs": [],
   "source": [
    "for i in range(5):\n",
    "    if i == 3:\n",
    "        \n",
    "    print(i)"
   ]
  },
  {
   "cell_type": "code",
   "execution_count": null,
   "metadata": {
    "ExecuteTime": {
     "end_time": "2019-04-16T01:12:59.539315Z",
     "start_time": "2019-04-16T01:12:59.531318Z"
    }
   },
   "outputs": [],
   "source": [
    "list(trips.geometry)[1].boundary[0]"
   ]
  },
  {
   "cell_type": "code",
   "execution_count": null,
   "metadata": {
    "ExecuteTime": {
     "end_time": "2019-04-16T01:18:43.807541Z",
     "start_time": "2019-04-16T01:18:43.585547Z"
    }
   },
   "outputs": [],
   "source": [
    "man.plot()"
   ]
  },
  {
   "cell_type": "code",
   "execution_count": null,
   "metadata": {
    "ExecuteTime": {
     "end_time": "2019-04-16T01:30:31.733301Z",
     "start_time": "2019-04-16T01:29:50.739573Z"
    },
    "scrolled": false
   },
   "outputs": [],
   "source": [
    "transitions = []\n",
    "outliers = []\n",
    "i = 0\n",
    "for tax_sample in tax:\n",
    "    time0 = time.time()\n",
    "    i += 1\n",
    "    #tax_sample.columns = ['pu1' , 'pu2', 'do1', 'do2']\n",
    "    trips = gpd.GeoDataFrame(tax_sample, geometry = list(tax_sample.apply(lambda x:transform(x), axis = 1)))\n",
    "    #trips = trips[trips.geometry.apply(lambda x:len(x.boundary)>1)]\n",
    "    #trips = trips[trips.geometry.apply(lambda x: find_zone([boundary], x.boundary[0]) != -1)]\n",
    "    #trips = trips[trips.geometry.apply(lambda x: find_zone([boundary], x.boundary[1]) != -1)]\n",
    "    transition, outlier = from_zone_to_transition_matrix(list(man.geometry), list(trips.geometry))\n",
    "    transitions.append(transition)\n",
    "    outliers.extend(outlier)\n",
    "    print(f'{i}:{time.time()-time0}')"
   ]
  },
  {
   "cell_type": "code",
   "execution_count": null,
   "metadata": {
    "ExecuteTime": {
     "end_time": "2019-04-16T00:19:34.315274Z",
     "start_time": "2019-04-16T00:19:34.308272Z"
    }
   },
   "outputs": [],
   "source": [
    "transitions[3].sum()"
   ]
  },
  {
   "cell_type": "code",
   "execution_count": null,
   "metadata": {
    "ExecuteTime": {
     "end_time": "2019-04-16T01:38:29.850256Z",
     "start_time": "2019-04-16T01:38:29.845265Z"
    }
   },
   "outputs": [],
   "source": []
  },
  {
   "cell_type": "code",
   "execution_count": null,
   "metadata": {},
   "outputs": [],
   "source": []
  },
  {
   "cell_type": "code",
   "execution_count": null,
   "metadata": {},
   "outputs": [],
   "source": [
    "outli"
   ]
  },
  {
   "cell_type": "code",
   "execution_count": null,
   "metadata": {
    "ExecuteTime": {
     "end_time": "2019-04-16T00:01:28.779115Z",
     "start_time": "2019-04-16T00:01:28.771125Z"
    }
   },
   "outputs": [],
   "source": [
    "LineString([[-73.90517425537109, 40.85726928710938], [-73.90517425537109, 40.85726928710938]])"
   ]
  },
  {
   "cell_type": "code",
   "execution_count": null,
   "metadata": {
    "ExecuteTime": {
     "end_time": "2019-04-15T23:56:24.213163Z",
     "start_time": "2019-04-15T23:56:24.204163Z"
    }
   },
   "outputs": [],
   "source": [
    "np.argmax(transition[0][0].sum(axis = 1))"
   ]
  },
  {
   "cell_type": "code",
   "execution_count": null,
   "metadata": {
    "ExecuteTime": {
     "end_time": "2019-04-15T23:58:04.690644Z",
     "start_time": "2019-04-15T23:58:04.681641Z"
    }
   },
   "outputs": [],
   "source": [
    "np.argmax(transition[0][0].sum(axis = 0))"
   ]
  },
  {
   "cell_type": "code",
   "execution_count": null,
   "metadata": {},
   "outputs": [],
   "source": []
  },
  {
   "cell_type": "code",
   "execution_count": null,
   "metadata": {
    "ExecuteTime": {
     "end_time": "2019-04-15T23:58:17.490129Z",
     "start_time": "2019-04-15T23:58:17.469127Z"
    }
   },
   "outputs": [],
   "source": [
    "man[45:46]"
   ]
  },
  {
   "cell_type": "code",
   "execution_count": null,
   "metadata": {
    "ExecuteTime": {
     "end_time": "2019-04-15T23:38:11.836671Z",
     "start_time": "2019-04-15T23:38:11.683673Z"
    },
    "scrolled": true
   },
   "outputs": [],
   "source": [
    "zones[zones.borough == 'Manhattan']"
   ]
  },
  {
   "cell_type": "code",
   "execution_count": null,
   "metadata": {
    "ExecuteTime": {
     "end_time": "2019-04-15T23:37:04.853156Z",
     "start_time": "2019-04-15T23:37:04.845157Z"
    }
   },
   "outputs": [],
   "source": [
    "transition[0].sum(axis = 1)"
   ]
  },
  {
   "cell_type": "code",
   "execution_count": null,
   "metadata": {
    "ExecuteTime": {
     "end_time": "2019-04-15T22:59:12.891804Z",
     "start_time": "2019-04-15T22:59:12.137813Z"
    }
   },
   "outputs": [],
   "source": [
    "new_geo = pd.concat(geo)"
   ]
  },
  {
   "cell_type": "code",
   "execution_count": null,
   "metadata": {
    "ExecuteTime": {
     "end_time": "2019-04-15T23:11:32.348908Z",
     "start_time": "2019-04-15T23:11:32.339920Z"
    }
   },
   "outputs": [],
   "source": [
    "del(new_geo)"
   ]
  },
  {
   "cell_type": "code",
   "execution_count": null,
   "metadata": {
    "ExecuteTime": {
     "end_time": "2019-04-15T22:36:09.872627Z",
     "start_time": "2019-04-15T22:36:09.861631Z"
    }
   },
   "outputs": [],
   "source": [
    "geo.info()"
   ]
  },
  {
   "cell_type": "code",
   "execution_count": null,
   "metadata": {
    "ExecuteTime": {
     "end_time": "2019-04-15T20:39:12.855875Z",
     "start_time": "2019-04-15T20:34:25.026294Z"
    },
    "scrolled": true
   },
   "outputs": [],
   "source": [
    "boundary = gpd.GeoSeries(cascaded_union(list(man.geometry)))[0]\n",
    "geo = geo[geo.geometry.apply(lambda x: (x.boundary[0].within(boundary) and x.boundary[1].within(boundary)) if len(x.boundary)>1 else False)]     "
   ]
  },
  {
   "cell_type": "code",
   "execution_count": null,
   "metadata": {
    "ExecuteTime": {
     "end_time": "2019-04-15T20:39:12.860874Z",
     "start_time": "2019-04-15T20:34:19.660Z"
    }
   },
   "outputs": [],
   "source": [
    "geo.to_csv(r'temp.csv',index = False)"
   ]
  },
  {
   "cell_type": "code",
   "execution_count": null,
   "metadata": {
    "ExecuteTime": {
     "end_time": "2019-04-15T20:31:05.526312Z",
     "start_time": "2019-04-15T20:31:05.506290Z"
    }
   },
   "outputs": [],
   "source": [
    "new_geo = gpd.GeoDataFrame(pd.read_csv(r'temp.csv'))"
   ]
  },
  {
   "cell_type": "code",
   "execution_count": null,
   "metadata": {
    "ExecuteTime": {
     "end_time": "2019-04-15T20:31:06.386176Z",
     "start_time": "2019-04-15T20:31:06.372182Z"
    }
   },
   "outputs": [],
   "source": [
    "new_geo.head()"
   ]
  },
  {
   "cell_type": "code",
   "execution_count": null,
   "metadata": {
    "ExecuteTime": {
     "end_time": "2019-04-15T20:20:33.660343Z",
     "start_time": "2019-04-15T20:20:33.653342Z"
    }
   },
   "outputs": [],
   "source": [
    "sum(sort)"
   ]
  },
  {
   "cell_type": "code",
   "execution_count": null,
   "metadata": {
    "ExecuteTime": {
     "end_time": "2019-04-15T20:13:51.940105Z",
     "start_time": "2019-04-15T20:13:51.906107Z"
    }
   },
   "outputs": [],
   "source": [
    "geo.geometry[324:325].apply(lambda x: x.boundary[0].within(boundary) and x.boundary[1].within(boundary))"
   ]
  },
  {
   "cell_type": "code",
   "execution_count": null,
   "metadata": {
    "ExecuteTime": {
     "end_time": "2019-04-15T19:13:21.246815Z",
     "start_time": "2019-04-15T19:13:21.224815Z"
    }
   },
   "outputs": [],
   "source": [
    "def within_boundary(x):\n",
    "    return x.within(boundary)"
   ]
  },
  {
   "cell_type": "code",
   "execution_count": null,
   "metadata": {
    "ExecuteTime": {
     "end_time": "2019-04-15T19:13:48.243126Z",
     "start_time": "2019-04-15T19:13:48.090082Z"
    }
   },
   "outputs": [],
   "source": []
  },
  {
   "cell_type": "code",
   "execution_count": null,
   "metadata": {
    "ExecuteTime": {
     "end_time": "2019-04-15T19:10:12.167271Z",
     "start_time": "2019-04-15T19:10:12.031272Z"
    }
   },
   "outputs": [],
   "source": [
    "zone.geometry"
   ]
  },
  {
   "cell_type": "code",
   "execution_count": null,
   "metadata": {},
   "outputs": [],
   "source": []
  },
  {
   "cell_type": "code",
   "execution_count": null,
   "metadata": {
    "ExecuteTime": {
     "end_time": "2019-04-15T18:56:28.339777Z",
     "start_time": "2019-04-15T18:56:12.488762Z"
    }
   },
   "outputs": [],
   "source": [
    "shape =\n",
    "gpd.read_file(r'NYC Street Centerline (CSCL)\\geo_export_1daa279c-aa85-4c43-b7ea-d5939a43054b.shp')\n"
   ]
  },
  {
   "cell_type": "code",
   "execution_count": null,
   "metadata": {
    "ExecuteTime": {
     "end_time": "2019-04-15T23:13:06.455784Z",
     "start_time": "2019-04-15T23:13:06.337768Z"
    }
   },
   "outputs": [],
   "source": [
    "zone = gpd.read_file(r'taxi_zones\\taxi_zones.shp')\n",
    "\n",
    "zone = zone.to_crs(\"+proj=longlat +ellps=WGS84 +datum=WGS84 +no_defs\")\n",
    "\n",
    "man= zone[zone.borough == 'Manhattan']"
   ]
  },
  {
   "cell_type": "code",
   "execution_count": null,
   "metadata": {
    "ExecuteTime": {
     "start_time": "2019-04-15T23:22:36.501Z"
    }
   },
   "outputs": [],
   "source": [
    "man.plot(figsize = (20,20))"
   ]
  },
  {
   "cell_type": "code",
   "execution_count": null,
   "metadata": {
    "ExecuteTime": {
     "end_time": "2019-04-15T23:14:09.913372Z",
     "start_time": "2019-04-15T23:14:09.772372Z"
    },
    "scrolled": true
   },
   "outputs": [],
   "source": [
    "man\n",
    "def divide(polygon,shape):\n",
    "    polygon"
   ]
  },
  {
   "cell_type": "code",
   "execution_count": null,
   "metadata": {
    "ExecuteTime": {
     "end_time": "2019-04-15T18:56:48.869469Z",
     "start_time": "2019-04-15T18:56:48.840466Z"
    }
   },
   "outputs": [],
   "source": [
    "list(zone.geometry[0].exterior.coords)"
   ]
  },
  {
   "cell_type": "code",
   "execution_count": null,
   "metadata": {
    "ExecuteTime": {
     "end_time": "2019-04-15T19:03:30.557181Z",
     "start_time": "2019-04-15T19:03:29.951174Z"
    },
    "scrolled": false
   },
   "outputs": [],
   "source": [
    "fig, ax = plt.subplots(figsize = (15,15))\n",
    "#shape.plot(ax = ax, alpha = 0.4)\n",
    "manhattan.plot(ax=ax)\n",
    "geo_df.plot(ax = ax, color = 'red')"
   ]
  },
  {
   "cell_type": "code",
   "execution_count": null,
   "metadata": {},
   "outputs": [],
   "source": [
    "def define_grid():\n",
    "    "
   ]
  },
  {
   "cell_type": "code",
   "execution_count": null,
   "metadata": {},
   "outputs": [],
   "source": []
  },
  {
   "cell_type": "code",
   "execution_count": null,
   "metadata": {},
   "outputs": [],
   "source": [
    "plt.hist(tax.pu1, range=[-85,-75],bins = 20)"
   ]
  },
  {
   "cell_type": "code",
   "execution_count": null,
   "metadata": {},
   "outputs": [],
   "source": [
    "plt.hist(tax.pu2,range = [40.5,41], bins = 200)"
   ]
  },
  {
   "cell_type": "code",
   "execution_count": null,
   "metadata": {},
   "outputs": [],
   "source": [
    "tax.pu2.min(axis = 0)"
   ]
  },
  {
   "cell_type": "code",
   "execution_count": null,
   "metadata": {},
   "outputs": [],
   "source": [
    "plt.hist(tax.pu2, range=[-85,-75],bins = 20)"
   ]
  },
  {
   "cell_type": "code",
   "execution_count": null,
   "metadata": {},
   "outputs": [],
   "source": [
    "taxi3.head()"
   ]
  },
  {
   "cell_type": "code",
   "execution_count": null,
   "metadata": {},
   "outputs": [],
   "source": [
    "taxi.columns = ['PU', 'DO']"
   ]
  },
  {
   "cell_type": "code",
   "execution_count": null,
   "metadata": {},
   "outputs": [],
   "source": [
    "len(taxi.PU.unique())"
   ]
  },
  {
   "cell_type": "code",
   "execution_count": null,
   "metadata": {},
   "outputs": [],
   "source": [
    "taxi.shape"
   ]
  }
 ],
 "metadata": {
  "kernelspec": {
   "display_name": "Python 3",
   "language": "python",
   "name": "python3"
  },
  "language_info": {
   "codemirror_mode": {
    "name": "ipython",
    "version": 3
   },
   "file_extension": ".py",
   "mimetype": "text/x-python",
   "name": "python",
   "nbconvert_exporter": "python",
   "pygments_lexer": "ipython3",
   "version": "3.6.5"
  }
 },
 "nbformat": 4,
 "nbformat_minor": 2
}
